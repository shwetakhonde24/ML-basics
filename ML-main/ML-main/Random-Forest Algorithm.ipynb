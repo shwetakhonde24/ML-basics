{
  "nbformat": 4,
  "nbformat_minor": 0,
  "metadata": {
    "colab": {
      "name": "Minor_project_final.ipynb",
      "provenance": [],
      "mount_file_id": "1BfFMICdmrkVmCX0LoccsmzFANXx1puYd",
      "authorship_tag": "ABX9TyOy7eKeDo+liJRmANf+Qd1T",
      "include_colab_link": true
    },
    "kernelspec": {
      "name": "python3",
      "display_name": "Python 3"
    }
  },
  "cells": [
    {
      "cell_type": "markdown",
      "metadata": {
        "id": "view-in-github",
        "colab_type": "text"
      },
      "source": [
        "<a href=\"https://colab.research.google.com/github/sh-shrey/ML/blob/main/Random-Forest%20Algorithm.ipynb\" target=\"_parent\"><img src=\"https://colab.research.google.com/assets/colab-badge.svg\" alt=\"Open In Colab\"/></a>"
      ]
    },
    {
      "cell_type": "code",
      "metadata": {
        "id": "rBl40FXjV8_O"
      },
      "source": [
        "import pandas as pd\n",
        "df= pd.read_csv('/content/drive/MyDrive/final - final_analysis - Sheet1.csv')"
      ],
      "execution_count": null,
      "outputs": []
    },
    {
      "cell_type": "code",
      "metadata": {
        "id": "bLfi-Bq7Xadu"
      },
      "source": [
        "from matplotlib import pyplot as plt\n",
        "%matplotlib inline\n",
        "import numpy as np\n",
        "#define dependent variable\n",
        "Y= df['Mood_prediction'].values\n",
        "Y=Y.astype('int')\n",
        "#define independent variables\n",
        "X= df.drop(labels=['Mood_prediction'],axis=1)"
      ],
      "execution_count": null,
      "outputs": []
    },
    {
      "cell_type": "code",
      "metadata": {
        "id": "yHBi7df4XsNE"
      },
      "source": [
        "#split data into train and test dataset\n",
        "from sklearn.model_selection import train_test_split\n",
        "X_train, X_test, Y_train, Y_test = train_test_split(X,Y,test_size=0.2,random_state=20) "
      ],
      "execution_count": null,
      "outputs": []
    },
    {
      "cell_type": "code",
      "metadata": {
        "colab": {
          "base_uri": "https://localhost:8080/"
        },
        "id": "1s78b6ciXxaz",
        "outputId": "5933633b-a03d-4eaf-a078-0e95dde20a4e"
      },
      "source": [
        "print(X_train.shape, Y_train.shape,Y_test.shape )"
      ],
      "execution_count": null,
      "outputs": [
        {
          "output_type": "stream",
          "text": [
            "(15775, 13) (15775,) (3944,)\n"
          ],
          "name": "stdout"
        }
      ]
    },
    {
      "cell_type": "code",
      "metadata": {
        "id": "stRFVpkyX1SL"
      },
      "source": [
        "from sklearn.ensemble import RandomForestClassifier\n",
        "from sklearn import tree\n",
        "model = RandomForestClassifier(n_estimators = 30, random_state=10)"
      ],
      "execution_count": null,
      "outputs": []
    },
    {
      "cell_type": "code",
      "metadata": {
        "colab": {
          "base_uri": "https://localhost:8080/"
        },
        "id": "q8GrMEXIX5FV",
        "outputId": "1f2e337b-a595-4a8d-e4c5-bfcd426f0a71"
      },
      "source": [
        "model.fit(X_train, Y_train)\n",
        "prediction_test = model.predict(X_test)\n",
        "print(prediction_test)"
      ],
      "execution_count": null,
      "outputs": [
        {
          "output_type": "stream",
          "text": [
            "[0 1 1 ... 0 0 0]\n"
          ],
          "name": "stdout"
        }
      ]
    },
    {
      "cell_type": "code",
      "metadata": {
        "colab": {
          "base_uri": "https://localhost:8080/"
        },
        "id": "YqlC-gE2X98c",
        "outputId": "e9d87ce3-f0c8-4902-80b6-2aa47ae7dd98"
      },
      "source": [
        "model.predict(X_test)"
      ],
      "execution_count": null,
      "outputs": [
        {
          "output_type": "execute_result",
          "data": {
            "text/plain": [
              "array([0, 1, 1, ..., 0, 0, 0])"
            ]
          },
          "metadata": {
            "tags": []
          },
          "execution_count": 8
        }
      ]
    },
    {
      "cell_type": "code",
      "metadata": {
        "colab": {
          "base_uri": "https://localhost:8080/"
        },
        "id": "VqzqeuBgYBD9",
        "outputId": "0b49f61c-59f8-46ed-d94e-8f7080eecd4c"
      },
      "source": [
        "from sklearn import metrics\n",
        "print(\"Accuracy= \", metrics.accuracy_score(Y_test,prediction_test))"
      ],
      "execution_count": null,
      "outputs": [
        {
          "output_type": "stream",
          "text": [
            "Accuracy=  0.9723630831643002\n"
          ],
          "name": "stdout"
        }
      ]
    },
    {
      "cell_type": "code",
      "metadata": {
        "colab": {
          "base_uri": "https://localhost:8080/"
        },
        "id": "PaLom4TdarSO",
        "outputId": "7482e8cf-aee0-469f-f7a4-d93853f064f7"
      },
      "source": [
        "confusion_matrix(Y_test, prediction_test)"
      ],
      "execution_count": null,
      "outputs": [
        {
          "output_type": "execute_result",
          "data": {
            "text/plain": [
              "array([[2592,   60],\n",
              "       [  49, 1243]])"
            ]
          },
          "metadata": {
            "tags": []
          },
          "execution_count": 11
        }
      ]
    },
    {
      "cell_type": "code",
      "metadata": {
        "colab": {
          "base_uri": "https://localhost:8080/"
        },
        "id": "bQ1xUDlmYE8a",
        "outputId": "974495b5-d082-4628-f3cd-9c87bf5126b4"
      },
      "source": [
        "from sklearn.metrics import classification_report, confusion_matrix, accuracy_score\n",
        "print(confusion_matrix(Y_test,prediction_test))\n",
        "print(classification_report(Y_test,prediction_test))\n",
        "print(accuracy_score(Y_test, prediction_test))"
      ],
      "execution_count": null,
      "outputs": [
        {
          "output_type": "stream",
          "text": [
            "[[2592   60]\n",
            " [  49 1243]]\n",
            "              precision    recall  f1-score   support\n",
            "\n",
            "           0       0.98      0.98      0.98      2652\n",
            "           1       0.95      0.96      0.96      1292\n",
            "\n",
            "    accuracy                           0.97      3944\n",
            "   macro avg       0.97      0.97      0.97      3944\n",
            "weighted avg       0.97      0.97      0.97      3944\n",
            "\n",
            "0.9723630831643002\n"
          ],
          "name": "stdout"
        }
      ]
    }
  ]
}