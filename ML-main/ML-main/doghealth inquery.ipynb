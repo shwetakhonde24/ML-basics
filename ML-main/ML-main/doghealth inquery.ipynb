{
  "nbformat": 4,
  "nbformat_minor": 0,
  "metadata": {
    "colab": {
      "provenance": []
    },
    "kernelspec": {
      "name": "python3",
      "display_name": "Python 3"
    },
    "language_info": {
      "name": "python"
    }
  },
  "cells": [
    {
      "cell_type": "code",
      "execution_count": null,
      "metadata": {
        "id": "aiL0TU9bDZDJ",
        "colab": {
          "base_uri": "https://localhost:8080/"
        },
        "outputId": "59a33e6b-f0cb-4be3-ba12-98fc0d3c733b"
      },
      "outputs": [
        {
          "output_type": "stream",
          "name": "stdout",
          "text": [
            "Mounted at /content/drive\n"
          ]
        }
      ],
      "source": [
        "from google.colab import drive\n",
        "drive.mount('/content/drive')"
      ]
    },
    {
      "cell_type": "code",
      "execution_count": null,
      "metadata": {
        "id": "e8IHGUH6DTGX"
      },
      "outputs": [],
      "source": [
        "import pandas as pd\n",
        "df = pd.read_csv(\"/content/drive/MyDrive/Datasets/Dog/Dog conditions dataset-1.csv\",encoding='cp1252')"
      ]
    },
    {
      "cell_type": "code",
      "execution_count": null,
      "metadata": {
        "id": "O9RGoqLhDbcm",
        "colab": {
          "base_uri": "https://localhost:8080/",
          "height": 206
        },
        "outputId": "d2fb6d8c-4842-44f7-ddb3-0a4c645215e2"
      },
      "outputs": [
        {
          "output_type": "execute_result",
          "data": {
            "text/plain": [
              "                                       Question  \\\n",
              "0           How to spot for the signs of Fleas?   \n",
              "1          How to get rid of fleas on your pet?   \n",
              "2       How to control fleas and ticks outside?   \n",
              "3        How common areÿfood allergiesÿin dogs?   \n",
              "4  What are the common signs of a food allergy?   \n",
              "\n",
              "                                              Answer  \n",
              "0  Every pet owner should be aware of the signs o...  \n",
              "1  The scratching, the biting at the fur, maybe e...  \n",
              "2  Mow Grass, Trim Shrubs, and Get Rid of Debris\\...  \n",
              "3  Ten percent of all allergy cases in dogs are f...  \n",
              "4  Anything from chronic ear inflammation, gastro...  "
            ],
            "text/html": [
              "\n",
              "  <div id=\"df-dea4e6fd-09f5-49cc-b4f2-379d801208b2\">\n",
              "    <div class=\"colab-df-container\">\n",
              "      <div>\n",
              "<style scoped>\n",
              "    .dataframe tbody tr th:only-of-type {\n",
              "        vertical-align: middle;\n",
              "    }\n",
              "\n",
              "    .dataframe tbody tr th {\n",
              "        vertical-align: top;\n",
              "    }\n",
              "\n",
              "    .dataframe thead th {\n",
              "        text-align: right;\n",
              "    }\n",
              "</style>\n",
              "<table border=\"1\" class=\"dataframe\">\n",
              "  <thead>\n",
              "    <tr style=\"text-align: right;\">\n",
              "      <th></th>\n",
              "      <th>Question</th>\n",
              "      <th>Answer</th>\n",
              "    </tr>\n",
              "  </thead>\n",
              "  <tbody>\n",
              "    <tr>\n",
              "      <th>0</th>\n",
              "      <td>How to spot for the signs of Fleas?</td>\n",
              "      <td>Every pet owner should be aware of the signs o...</td>\n",
              "    </tr>\n",
              "    <tr>\n",
              "      <th>1</th>\n",
              "      <td>How to get rid of fleas on your pet?</td>\n",
              "      <td>The scratching, the biting at the fur, maybe e...</td>\n",
              "    </tr>\n",
              "    <tr>\n",
              "      <th>2</th>\n",
              "      <td>How to control fleas and ticks outside?</td>\n",
              "      <td>Mow Grass, Trim Shrubs, and Get Rid of Debris\\...</td>\n",
              "    </tr>\n",
              "    <tr>\n",
              "      <th>3</th>\n",
              "      <td>How common areÿfood allergiesÿin dogs?</td>\n",
              "      <td>Ten percent of all allergy cases in dogs are f...</td>\n",
              "    </tr>\n",
              "    <tr>\n",
              "      <th>4</th>\n",
              "      <td>What are the common signs of a food allergy?</td>\n",
              "      <td>Anything from chronic ear inflammation, gastro...</td>\n",
              "    </tr>\n",
              "  </tbody>\n",
              "</table>\n",
              "</div>\n",
              "      <button class=\"colab-df-convert\" onclick=\"convertToInteractive('df-dea4e6fd-09f5-49cc-b4f2-379d801208b2')\"\n",
              "              title=\"Convert this dataframe to an interactive table.\"\n",
              "              style=\"display:none;\">\n",
              "        \n",
              "  <svg xmlns=\"http://www.w3.org/2000/svg\" height=\"24px\"viewBox=\"0 0 24 24\"\n",
              "       width=\"24px\">\n",
              "    <path d=\"M0 0h24v24H0V0z\" fill=\"none\"/>\n",
              "    <path d=\"M18.56 5.44l.94 2.06.94-2.06 2.06-.94-2.06-.94-.94-2.06-.94 2.06-2.06.94zm-11 1L8.5 8.5l.94-2.06 2.06-.94-2.06-.94L8.5 2.5l-.94 2.06-2.06.94zm10 10l.94 2.06.94-2.06 2.06-.94-2.06-.94-.94-2.06-.94 2.06-2.06.94z\"/><path d=\"M17.41 7.96l-1.37-1.37c-.4-.4-.92-.59-1.43-.59-.52 0-1.04.2-1.43.59L10.3 9.45l-7.72 7.72c-.78.78-.78 2.05 0 2.83L4 21.41c.39.39.9.59 1.41.59.51 0 1.02-.2 1.41-.59l7.78-7.78 2.81-2.81c.8-.78.8-2.07 0-2.86zM5.41 20L4 18.59l7.72-7.72 1.47 1.35L5.41 20z\"/>\n",
              "  </svg>\n",
              "      </button>\n",
              "      \n",
              "  <style>\n",
              "    .colab-df-container {\n",
              "      display:flex;\n",
              "      flex-wrap:wrap;\n",
              "      gap: 12px;\n",
              "    }\n",
              "\n",
              "    .colab-df-convert {\n",
              "      background-color: #E8F0FE;\n",
              "      border: none;\n",
              "      border-radius: 50%;\n",
              "      cursor: pointer;\n",
              "      display: none;\n",
              "      fill: #1967D2;\n",
              "      height: 32px;\n",
              "      padding: 0 0 0 0;\n",
              "      width: 32px;\n",
              "    }\n",
              "\n",
              "    .colab-df-convert:hover {\n",
              "      background-color: #E2EBFA;\n",
              "      box-shadow: 0px 1px 2px rgba(60, 64, 67, 0.3), 0px 1px 3px 1px rgba(60, 64, 67, 0.15);\n",
              "      fill: #174EA6;\n",
              "    }\n",
              "\n",
              "    [theme=dark] .colab-df-convert {\n",
              "      background-color: #3B4455;\n",
              "      fill: #D2E3FC;\n",
              "    }\n",
              "\n",
              "    [theme=dark] .colab-df-convert:hover {\n",
              "      background-color: #434B5C;\n",
              "      box-shadow: 0px 1px 3px 1px rgba(0, 0, 0, 0.15);\n",
              "      filter: drop-shadow(0px 1px 2px rgba(0, 0, 0, 0.3));\n",
              "      fill: #FFFFFF;\n",
              "    }\n",
              "  </style>\n",
              "\n",
              "      <script>\n",
              "        const buttonEl =\n",
              "          document.querySelector('#df-dea4e6fd-09f5-49cc-b4f2-379d801208b2 button.colab-df-convert');\n",
              "        buttonEl.style.display =\n",
              "          google.colab.kernel.accessAllowed ? 'block' : 'none';\n",
              "\n",
              "        async function convertToInteractive(key) {\n",
              "          const element = document.querySelector('#df-dea4e6fd-09f5-49cc-b4f2-379d801208b2');\n",
              "          const dataTable =\n",
              "            await google.colab.kernel.invokeFunction('convertToInteractive',\n",
              "                                                     [key], {});\n",
              "          if (!dataTable) return;\n",
              "\n",
              "          const docLinkHtml = 'Like what you see? Visit the ' +\n",
              "            '<a target=\"_blank\" href=https://colab.research.google.com/notebooks/data_table.ipynb>data table notebook</a>'\n",
              "            + ' to learn more about interactive tables.';\n",
              "          element.innerHTML = '';\n",
              "          dataTable['output_type'] = 'display_data';\n",
              "          await google.colab.output.renderOutput(dataTable, element);\n",
              "          const docLink = document.createElement('div');\n",
              "          docLink.innerHTML = docLinkHtml;\n",
              "          element.appendChild(docLink);\n",
              "        }\n",
              "      </script>\n",
              "    </div>\n",
              "  </div>\n",
              "  "
            ]
          },
          "metadata": {},
          "execution_count": 3
        }
      ],
      "source": [
        "df.head()"
      ]
    },
    {
      "cell_type": "markdown",
      "metadata": {
        "id": "9rapvpqMDdYj"
      },
      "source": [
        "### Data Pre-Processing"
      ]
    },
    {
      "cell_type": "code",
      "execution_count": null,
      "metadata": {
        "id": "6HvRrZ4YDb6T",
        "colab": {
          "base_uri": "https://localhost:8080/"
        },
        "outputId": "6a330343-5379-4673-b703-461c5c844183"
      },
      "outputs": [
        {
          "output_type": "stream",
          "name": "stdout",
          "text": [
            "['spot signs fleas', 'rid fleas pet', 'control fleas ticks outside', 'common arefood allergiesin dogs', 'common signs food allergy', 'common things trigger food allergy dog', 'causes foodallergies', 'determine dog hasfoodallergies causing problem', 'changing dogs diet trigger food allergy', 'dog suddenly develop food allergy eaten years problems happening', 'treat dog food allergies', 'cook dog buy food raw diet help', 'mypuppyfrom developing food allergies', 'allergic dermatitis', 'yeast infection dog', 'folliculitis', 'impetigo', 'seborrhea', 'ringworm dogs', 'shedding hair loss alopecia', 'mange mites', 'fleas dog', 'ticks', 'skin colour change texture change indicates', 'dry flaky skin dogs', 'acral lick granuloma', 'skin tumors dogs', 'hot spots dogs', 'immune disorders dogs', 'anal sac disease dogs', 'vet', 'signs tickborne diseases', 'tick concerns dogs', 'skin treatments dogs safe', 'use fogger', 'symptons anal sac disease dogs', 'stages anal sac disease', 'preventions anal sac disease', 'causes osteoarthritis joint problems dogs', 'signs joint problems', 'breeds dog prone joint injuries', 'common treatments osteoarthritis joint problems dogs', 'surgery required ways treat joint injuries', 'limit dogs activity joint problems', 'help prevent joint injuries dog', 'vitamins additives dog help joint problems', 'signs abnormal urination dogs', 'bladder infection symptoms treated', 'urinary crystals urinary stones symptoms', 'prostate problems identify symptoms', 'tips collecting urine sample dogs', 'prevent abnormal urination dog', 'cushings syndrome dogs', 'symptoms cushings syndrome dogs', 'common cancer dogs common cancers dogs', 'symptoms cancer dogs', 'breeds prone cancers mixedbreed dogs likely cancer', 'help prevent dog getting cancer', 'dog cancer mean going die', 'cost treat dog cancer', 'whats cure rate dogs cancer', 'whats cough', 'common causes eye discharge watery eyes dog treated', 'steps applying dogs eye medication', 'prevent eye problems dogs', 'cyst types lumps bumps', 'causes deafness dogs', 'causes dogs deaf time', 'tell dog deaf', 'deaf dogs trained', 'deaf dog safe', 'dog dental problem', 'dog rarely shows sign dental pain', 'signs advanced dental problems dog', 'care dogs oral health', 'care care dogs dental care', 'dog depressed', 'signs depression dogs', 'causes depression dogs', 'help depressed dog', 'vet dogs depression', 'medication dog depression', 'diabetes mellitus causes', 'signs dogs diabetes typically', 'terms polyuria polydipsia polyphagia mean', 'dog having problems holding urine mean diabetes', 'diabetes diagnosed', 'dog age diabetes', 'problems associated diabetes', 'diseases signs diabetes', 'difference type 1 type 2 diabetes dogs', 'expected lifespan dog diabetes', 'diabetes animals similar humans', 'think dog low blood sugar hypoglycemia', 'water let dog drink diabetic', 'importance making sure diabetic dog regulated', 'long regulate diabetic animal', 'dog ill eating himher insulin injection', 'dog treat', 'typical diet consist', 'blood glucose curve', 'problems blood glucose curves', 'blood glucose curve', 'stress hyperglycemia', 'fructosamine', 'diabetic dog veterinarian', 'diabetic dog receive vaccinations', 'safe dog diabetes mellitus receive general anesthetic', 'diarrhea dogs', 'causes diarrhea dogs', 'visit vet dog having diarrhea', 'treat diarrhea dogs', 'cannine distemper', 'cannine distemper spread', 'symptoms canine distemper', 'dogs risk distemper', 'treat canine distemper', 'prevent canine distemper', 'bacterial ear infection', 'treat ear problems dog', 'dog suffering ear problems', 'hematoma', 'aural hematoma occurs', 'hematoma treated', 'follow treatment required hematoma', 'blood blister wont disappear time like bruise', 'hematoma swelling drained', 'common ear infection dogs', 'common symptoms ear infection', 'common ear infection symptoms indicates ear mites', 'important treat ear infection', 'dogs ear canal nearly closed problem', 'symptoms middle inner ear infection dogs', 'causes ear infection dogs', 'middle inner ear infection dogs dignosed', 'dog recover middle inner ear infection', 'ear mites', 'know dog hving ear mites', 'dogs catch ear mites', 'ear mites contagious pets', 'humans catch ear mites pets animals', 'treatment ear mites', 'ehrlichiosis dogs', 'canine monocytic ehrlichiosis', 'stages ehrlichiosis', 'canine granulocytic ehrlichiosis', 'suspect dog ehrlichiosis', 'treat ehrlichiosis dogs', 'prevent ehrlichiosis dogs', 'hip elbow dysplasia', 'caus hip elbow dysplasia', 'signs hip elbow dysplasia', 'way prevent hip elbow dydplasia', 'dog breeds prone hip elbow dysplasia', 'dog diagnosed hip elbow dysplasia', 'ease dogs pain hip dysplasia', 'enterities dog', 'symptoms enterities dog', 'main difference enteritis gastroenteritis', 'intestinal inflammation result enterities dogs', 'lymphocytic plasmocytic enteritis dogs', 'eosinophilic enteritis dogs', 'granulomatous enteritis dogs', 'acute enterities dogs', 'entropion dogs', 'causes entropion dogs', 'diagnose entropion dogs', 'treatment entropion dogs', 'entropion surgery dogs', 'prevent entropinon dogs', 'epiphora dogs', 'symptoms epiphora dogs', 'causes epiphora', 'fecal impaction dogs', 'symptoms fecal impaction dogs', 'causes fecal impaction', 'treatments possible dog having fecal impaction', 'causes folliculitis dogs', 'diagnosing folliculitis dogs required', 'treatment folliculities dogs', 'prevent folliculities dogs', 'causes vomiting dogs', 'dog throwing vomiting', 'reasons dog throwing vomiting frequently', 'treat vomiting dogs', 'dogs frostbite', 'breeds susceptible frostbite', 'signs frostbites dogs', 'treat frostbites dogs', 'prevent frostbites dogs', 'gastrities dogs', 'signs gastrities dogs', 'causes gastritis', 'gastritis diagnosed', 'gastritis treated', 'glaucoma', 'causes primary glaucoma dogs', 'cause secondary glaucoma dogs', 'signs symptoms glaucoma', 'glaucoma dogs diagnosed', 'glaucoma dogs treated', 'head trauma dogs', 'symptoms head injuries dogs', 'causes head trauma dogs', 'diagnosis head trauma dogs', 'treatment head trauma dogs', 'recovery head trauma dogs', 'causes heartworm disease dogs', 'lifecycle heartworm', 'heartworm disease', 'heartworm disease spread', 'heartworms dog', 'heartworm disease diagnosed', 'prevent dog getting heartworms', 'heatstroke dogs', 'symptoms heatstroke dogs', 'causes heatstrokes dogs', 'diagnosis heatstroke dogs', 'treatment heatstroke dogs', 'recovery heatstroke dogs', 'herpies virus dogs', 'canine herpes virus transmitted', 'symptoms canine herpes adult dogs', 'common dog herpes', 'diagnosis canine herpes virus', 'treatment canine herpes virus', 'preventing canine herpes virus', 'canine hip dysplasia', 'tell dog hip dysplasia', 'dogs hip dysplasia', 'congenital hip dysplasia diagnosis', 'breeds hip dysplasia', 'dog hip dysplasia treatment', 'exercising dog hip dysplasia', 'proper diet dogs dysplasia', 'dog hip dysplasia home treatment', 'histoplasmosis dogs', 'symptoms histoplasmosis dogs', 'causes histoplasmosis dogs', 'histoplasmosis dogs', 'histoplasmosis contagious dogs', 'okay dogs eat bird bat poop', 'bat poop dogs sick', 'common histoplasmosis dogs', 'hookworms', 'symptoms hookworms dogs', 'causes hookworms dogs', 'diagnosis hookworms dogs', 'treatment hookworms dogs', 'recovery hookworms dogs', 'hot spots dogs', 'dog hot spots look like', 'causes hot spots dogs', 'treat hot spot dog', 'vet treat hot spots', 'home remedies hot spots dogs', 'prevent hot spots dogs', 'hypoglycemia', 'symptoms hypoglycemia dogs', 'causes hypoglycemia dogs', 'diagnosis hypoglycemia dogs', 'treatment hypoglycemia dogs', 'recovery hypoglycemia dogs', 'hypothyroidism dogs', 'symptoms hypothyroidism', 'treatment hypothyroidisim dogs', 'urinary incontinence dogs', 'causes urinary incontinence dogs', 'symptoms urinary incontinence dogs', 'types dogs likely urinary incontinence', 'diagnosis treatment urinary incontinence dogs', 'management urinary incontinence dogs', 'inflammatory bowel disease ibd dogs', 'causes ibd inflammatory bowel disease', 'general symptoms ibdinflammatory bowel disease', 'ibdinflammatory bowel disease diagnosed', 'dogs prone ibdinflammotory bowel disease', 'ibdinflammotory bowel disease treated', 'feed dog ibdinflammotory bowel disease', 'ibdinflammotory bowel disease time vet', 'mosquitoe bites dogs', 'bees wasps hornets bites', 'intestinal obstruction', 'symptoms intestinal obstruction dogs', 'types intestinal obstruction dogs', 'causes intestinal obstruction dogs', 'diagnosis intestinal obstruction dogs', 'treatment intestinal obstruction dogs', 'recovery intestinal obstruction dogs', 'kennel cough dogs', 'kennel cough', 'symptoms kennel cough', 'treating preventing kennel cough', 'kidney problems dogs', 'causes kidney failure dogs', 'signs kidney disease dogs', 'kidney failure prevented', 'kidney disease treated', 'foods good dogs kidney disease', 'happens kidney disease goes untreated', 'laryngeal paralysis dogs', 'causes laryngeal paralysis', 'know dog laryngeal paralysis', 'vet know dog laryngeal paralysis', 'laryngeal paralysis treated', 'pet better form laryngeal paralysis', 'laryngitis', 'symptoms laryngitis dogs', 'causes laryngitis dogs', 'diagnosis laryngitis dogs', 'treatment laryngitis dogs', 'recovery laryngitis dogs', 'chronic leukemia', 'symptoms chronic leukemia dogs', 'types chronic leukemia dogs', 'causes chronic leukemia dogs', 'diagnosis chronic leukemia dogs', 'treatment chronic leukemia dogs', 'recovery chronic leukemia dogs', 'acute leukemia', 'symptoms acute leukemia dogs', 'types acute leukemia', 'causes acute leukemia dogs', 'diagnosis acute leukemia dogs', 'treatment acute leukemia dogs', 'recovery acute leukemia dogs', 'lick granuloma', 'cause lick granuloma', 'lick granuloma diagnosed', 'treatment lick granuloma dogs', 'lipomas dogs', 'symptoms lipomas dogs', 'vets diagnose dog lipomas', 'treatment lipomas dogs', 'recovery management dog lipomas', 'lipomas away dogs', 'lipoma dogs deadly', 'lipomas dogs need removed', 'lipomas dogs grow fast', 'liver disease dogs', 'symptoms liver disease', 'causes liver problems', 'treatment liver dissease', 'preventions taken liver disease dogs', 'lyme disease dogs', 'causes lyme disease', 'lyme disease dogs different lyme disease humans', 'lyme disease area', 'treat lyme disease present', 'protect dogs lyme disease', 'lymphoma', 'types lymphoma', 'causes lymphoma dogs', 'symptoms lymphoma dogs', 'diagnosing lymphoma dogs', 'treating lymphoma dogs', 'canine lymphoma prognosis', 'living canine lymphoma', 'sarcoptic mange', 'symptoms sarcoptic mange dogs', 'causes sarcoptic mange dogs', 'diagnosis sarcoptic mange dogs', 'treatment sarcoptic mange dogs', 'recovery sarcoptic mange dogs', 'mast cell', 'mast cell tumor', 'causes cancer', 'signs dog mast cell tumor', 'treatments mast cell tumor', 'enlargement esophagus dogsmegaesophagus', 'symptoms treatment enlargement esophagus dogsmegaesophagus', 'causes enlargement esophagus dogsmegaesophagus', 'diagnosis enlargement esophagus dogsmgaesophagus', 'treatment enlargement esophagus dogsmgaesophagus', 'living management enlargement esophagus dogsmgaesophagus', 'motion sickness dogs', 'causes dog motion sickness', 'signs dog motion sickness', 'treatment dog motion sickness', 'dog motion sickness medications', 'mouth cancer', 'symptoms types oral cancer dogs', 'treatment dog mouth cancer', 'living management oral cancer', 'dog mouth cancer life expectancy', 'nasal pigmentation dogs', 'symptoms nasal pigmentation dogs', 'causes nasal pigmentation dogs', 'treatments nasal pigmentation dogs', 'obesity', 'risks obesity', 'know dog obese', 'adjust dogs meals help lose weight', 'happens reach weight loss goal', 'osteoarthritis dogs', 'signs symptoms osteoarthrities dogs', 'diagnostics osteoarthrities dogs', 'treatment osteoarthrities dogs', 'aftercare outcome osteoarthirities dogs', 'pancreatitis dogs', 'classic signs pancreatitis dogs', 'dehydration pancreatitis dogs', 'causes pancreatitis dogs', 'vet diagnose pancreatitis dogs', 'whats difference acute chronic pancreatitis', 'treatment management pancreatitis dogs', 'supplements prevent manage pancreatitis dogs', 'parvovirus', 'symptoms parvovirus dogs', 'types pavovirus dogs', 'causes parvovirus dogs', 'diagnosis parvovirus dogs', 'treatment parvovirus dogs', 'recovery parvovirus dogs', 'periodontal disease dogs', 'symptoms periodontal disease dogs', 'causes periodontal disease', 'periodontal disease dogs treated', 'prevent dog getting periodontal disease', 'prostate enlargement', 'symptoms prostate enlargement dogs', 'types prostate enlargement dogs', 'causes prostate enlargement dogs', 'diagnosis prostate enlargement dogs', 'treatment prostate enlargement dogs', 'recovery prostate enlargement dogs', 'pyoderma', 'symptoms pyoderma dogs', 'causes pyoderma dogs', 'diagnosis pyoderma dogs', 'treatment pyoderma dogs', 'recovery pyoderma dogs', 'rabies', 'dog rabies', 'symptoms rabies', 'rabies diagnosed treated', 'prevent rabies', 'come rabid animal', 'dog contact potentially rabid animal', 'think rabid animal bitten', 'rhinitis sinusitis', 'symptoms rhinitis sinusitis dogs', 'causes rhinitis sinusitis dogs', 'diagnosis rhinitis sinusitis dogs', 'treatment rhinitis sinusitis dogs', 'recovery rhinitis sinusitis dogs', 'ringworm', 'symptoms ringworm dogs', 'types ringworms', 'causes ringworm dogs', 'diagnosis ringworm dogs', 'treatment ringworm dogs', 'recovery ringworm dogs', 'rocky mountain spotted fever', 'symptoms rocky mountain spotted fever dogs', 'causes rocky mountain spotted fever dogs', 'diagnosis rocky mountain spotted fever dogs', 'treatment rocky mountain spotted fever dogs', 'recovery rocky mountain spotted fever dogs', 'roundworms', 'roundworm symptoms', 'dogs roundworms', 'roundworm diagnosis', 'roundworm treatment', 'roundworm prevention', 'roundworm risk humans', 'ruptured disc', 'causes ruptured disc dogs', 'signs ruptured disc', 'diagnose ruptured disc', 'treatment ruptured discs', 'salmonella infection', 'symptoms salmonella infection dogs', 'causes salmonella infection dogs', 'diagnosis salmonella infection dogs', 'treatment salmonella infection dogs', 'recovery salmonella infection dogs', 'skin disease canine seborrhea', 'symptoms skin disease canine seborrhea dogs', 'causes skin disease canine seborrhea dogs', 'diagnosis skin disease canine seborrhea dogs', 'treatment skin disease canine seborrhea dogs', 'recovery skin disease canine seborrhea dogs', 'tapeworms', 'dogs tapeworms', 'tell dog tapeworms', 'diagnosis treatment tapeworms dogs', 'tapeworms passed humans', 'prevention tapeworms dogs', 'testicular tumor dogs', 'causes testicular tumor dogs', 'signs symptoms testicular tumor dogs', 'diagnosis testicular tumor', 'treatment testicular tumor dogs', 'torn knee ligament', 'symptoms torn knee ligament dogs', 'types torn knee ligament dogs', 'causes torn knee ligament dogs', 'diagnosis torn knee ligament dogs', 'treatment torn knee ligament dogs', 'recovery torn knee ligament dogs', 'tracheal collapse dogs', 'signs tracheal collapse dogs', 'dogs prone tracheal collapse', 'classifications tracheal collapse', 'making diagnosis tracheal collapse', 'treatment tracheal collapse dogs', 'stomach intestinal ulcers', 'symptoms stomach intestinal ulcers dogs', 'causes stomach intestinal ulcers dogs', 'diagnosis stomach intestinal ulcers dogs', 'treatment stomach intestinal ulcers dogs', 'recovery stomach intestinal ulcers dogs', 'urinary tract infection', 'symptoms urinary tract infection dogs', 'causes urinary tract infection dogs', 'diagnosis urinary tract infection dogs', 'treatment urinary tract infection dogs', 'recovery urinary tract infection dogs', 'whipworms', 'symptoms whipworms dogs', 'causes whipworms dogs', 'diagnosis whipworms dogs', 'treatment whipworms dogs', 'recovery whipworms dogs', 'fungal infection yeast', 'symptoms fungal infection yeast dogs', 'types yest infection', 'causes fungal infection yeast dogs', 'diagnosis fungal infection yeast dogs', 'treatment fungal infection yeast dogs', 'recovery fungal infection yeast dogs', 'dog stomach swelling common causes treatments', 'tips prevent stomach problems dog', 'reasons dog eating feeling loss apetite', 'dog wont eat', 'tips guidline prevent dental problems pet mouth clean', 'dogs pant heavily common causes', 'reasons dogs compulsively scratch lick chew', 'treatment dogs compulsive scratching licking chewing', 'dog choking', 'pet experiencing seizures', 'problem dog falling loosing balance', 'cause constipation dogs', 'dog having constipation treatment constipation', 'dog coughing continously reasons non stop coughing dogs', 'dog dandruff', 'help dogs skin coat healthy dandruff away', 'know dog dandruff', 'keeping dag safe heat summer avoiding dehydration', 'warning sign dehydration heatstrokes dogs', 'dogs drag bottoms scooting common causes treatments', 'check dogs bottoms', 'dog drool', 'dog gaining weight', 'tell dog overweight', 'urinary incontinence dogs', 'causes urinary incontinence dogs', 'painful urination dogs', 'signs abnormal urination dogs', 'abnormal urination dogs common causes treatments', 'read dogs body language tail wagging raised hackles posture facial expressions eyes', 'dog thirsty', 'dog shivering trembling common causes treatments', 'types lumps bumps', 'stop dogs nosebleed', 'food products posinious dogs', 'suspected dog poisoning', 'dog weakness lethargy common causes treatments']\n",
            "\n",
            "\n",
            "['how to spot for the signs of fleas', 'how to get rid of fleas on your pet', 'how to control fleas and ticks outside', 'how common arefood allergiesin dogs', 'what are the common signs of a food allergy', 'what are the most common things that could trigger a food allergy in my dog', 'what causes foodallergies', 'how do i determine if my dog hasfoodallergies or something else is causing the problem', 'will changing my dogs diet trigger a food allergy', 'can my dog suddenly develop a food allergy to something that they have eaten for years with no problems will this keep happening', 'how do i treat a dog with food allergies', 'should i cook for my dog rather than buy them food what about a raw diet will that help', 'is there anything i can do to keep mypuppyfrom developing food allergies', 'what is allergic dermatitis', 'what is yeast infection in your dog', 'what is folliculitis', 'what is impetigo', 'what is seborrhea ', 'what is ringworm in dogs ', 'shedding and hair loss alopecia', 'what is mange mites ', 'what are fleas in dog', 'what are ticks', 'what does skin colour change or texture change indicates', 'what is dry and flaky skin in dogs', 'what is acral lick granuloma', 'what is skin tumors in dogs', 'what is hot spots in dogs', 'what is immune disorders in dogs', 'what is anal sac disease in dogs', 'when to see the vet', 'what are signs of tickborne diseases', 'what are tick concerns in dogs', 'are skin treatments for dogs safe', 'should you use a fogger', 'what are the symptons of anal sac disease in dogs', 'what are the stages of anal sac disease', 'what are the preventions for anal sac disease', 'what causes osteoarthritis or joint problems in dogs', 'what are the signs of joint problems', 'are some breeds of dog more prone to joint injuries', 'what are the common treatments for osteoarthritis or joint problems in dogs', 'is surgery always required or are there other ways to treat joint injuries', 'should i limit my dogs activity if they have joint problems', 'what can i do to help prevent joint injuries in my dog', 'are there any vitamins or additives i can give my dog to help with joint problems', 'what are the signs of abnormal urination in dogs', 'what is bladder infection symptoms and how can it be treated', 'what is urinary crystals and urinary stones and what are its symptoms', 'what are prostate problems and how to identify its symptoms', 'what are the tips for collecting the urine sample in dogs', 'how to prevent the abnormal urination in your dog', 'what is cushings syndrome in dogs', 'what are the symptoms of cushings syndrome in dogs', 'how common is cancer in dogs and what are some of the common cancers found in dogs', 'what are some of the symptoms of cancer in dogs', 'are some breeds are more prone to cancers are mixedbreed dogs less likely to get cancer', 'what can i do to help prevent my dog from getting cancer', 'if my dog has cancer does that mean they are going to die', 'what does it cost to treat a dog with cancer', 'whats the cure rate for dogs with cancer', 'whats behind the cough', 'what are the common causes of eye discharge watery eyes in a dog and how can it be treated', 'what are the steps for applying your dogs eye medication', 'how to prevent eye problems in your dogs', 'what are the cyst types of lumps and bumps', 'what causes deafness in dogs', 'what causes dogs to go deaf over time', 'how can i tell if my dog is deaf', 'can deaf dogs be trained', 'how do i keep my deaf dog safe', 'can my dog have any dental problem', 'why do dog rarely shows the sign of dental pain', 'what are the signs of the advanced dental problems in your dog', 'how to take care of your dogs oral health', 'what care you must take care for your dogs dental care', 'can dog get depressed', 'what are the signs of depression in dogs', 'what causes depression in dogs', 'how could you help your depressed dog', 'when to see a vet about your dogs depression', 'is there medication for dog depression', 'what is diabetes mellitus and what causes it', 'what signs do dogs with diabetes typically show', 'what do the terms polyuria polydipsia and polyphagia mean', 'my dog is having problems holding its urine does that mean it has diabetes', 'how is diabetes diagnosed', 'can a dog of any age get diabetes', 'what other problems can be associated with diabetes', 'what other diseases have the same signs as diabetes', 'what is the difference between type 1 and type 2 diabetes in dogs', 'what is the expected lifespan for a dog with diabetes', 'is diabetes in animals similar to that of humans', 'what should i do if i think that my dog has very low blood sugar hypoglycemia', 'how much water should i let my dog drink if it is diabetic', 'what is the importance of making sure my diabetic dog is regulated', 'how long does it take to regulate a diabetic animal', 'my dog is ill and not eating should i still give himher an insulin injection', 'what can i give my dog as a treat', 'what does the typical diet consist of', 'what is a blood glucose curve', 'what are some problems with blood glucose curves', 'how often should a blood glucose curve be done', 'what is stress hyperglycemia', 'what is fructosamine', 'how often should my diabetic dog see the veterinarian', 'should my diabetic dog still receive vaccinations', 'is it safe for a dog with diabetes mellitus to receive a general anesthetic', 'what is diarrhea in dogs', 'what causes diarrhea in dogs', 'when to visit the vet if your dog is having diarrhea', 'how to treat diarrhea in dogs', 'what is cannine distemper', 'how is cannine distemper spread', 'what are the symptoms of canine distemper', 'what dogs are most at risk for distemper', 'how to treat canine distemper', 'how to prevent canine distemper', 'what is bacterial ear infection', 'how to treat ear problems in your dog', 'what to do if your dog is suffering from ear problems', 'what is hematoma', 'why do aural hematoma occurs', 'how is hematoma treated', 'what follow up treatment is required after hematoma', 'if it is a blood blister wont it disappear with time just like a bruise', 'in hematoma can swelling be just drained', 'how common are ear infection in dogs', 'what are common symptoms of an ear infection', 'does the common ear infection symptoms always indicates ear mites', 'how important is it to treat an ear infection', 'my dogs ear canal is nearly closed is that a problem', 'what are the symptoms of middle and inner ear infection in dogs', 'what are the causes of ear infection in dogs', 'how are middle and inner ear infection in dogs dignosed', 'can my dog recover from middle and inner ear infection', 'what are ear mites', 'how do i know if my dog is hving ear mites', 'how do dogs catch ear mites', 'are ear mites contagious to other pets', 'can humans catch ear mites from their pets or other animals', 'what treatment is their for ear mites', 'what is ehrlichiosis in dogs', 'what is canine monocytic ehrlichiosis', 'what are the stages of ehrlichiosis', 'what is canine granulocytic ehrlichiosis', 'what to do if you suspect your dog has ehrlichiosis', 'how to treat ehrlichiosis in dogs', 'how to prevent ehrlichiosis in dogs', 'what is hip and elbow dysplasia', 'what is the caus of hip and elbow dysplasia', 'what are the signs of hip and elbow dysplasia', 'is there a way to prevent hip and elbow dydplasia', 'which dog breeds are more prone to hip and elbow dysplasia', 'what to do if your dog is diagnosed with hip and elbow dysplasia', 'what else can you do to ease your dogs pain due to hip and dysplasia', 'what is enterities in dog', 'what are the symptoms of enterities in your dog', 'what is the main difference between between enteritis and gastroenteritis', 'can intestinal inflammation result in enterities in dogs', 'what is lymphocytic plasmocytic enteritis in dogs', 'what is eosinophilic enteritis in dogs', 'what is granulomatous enteritis in dogs', 'what is acute enterities in dogs', 'what is entropion in dogs', 'what are the causes of entropion in dogs', 'how to diagnose entropion in dogs', 'what is the treatment for entropion in dogs', 'what is entropion surgery in dogs', 'can we prevent entropinon in dogs', 'what is epiphora in dogs', 'what are the symptoms of epiphora in dogs', 'what are the causes of epiphora', 'what is fecal impaction in dogs', 'what are the symptoms of fecal impaction in dogs', 'what are the causes of fecal impaction', 'what are the treatments possible if your dog is having fecal impaction', 'what are the causes of folliculitis in dogs', 'is diagnosing of folliculitis in dogs required', 'what are the treatment for folliculities in dogs', 'how to prevent folliculities in dogs', 'what are the causes of vomiting in dogs', 'why is my dog throwing up vomiting', 'what can be the reasons if your dog is throwing up vomiting frequently', 'how to treat vomiting in dogs', 'can dogs get frostbite', 'what breeds are susceptible to frostbite', 'what are the signs of frostbites in dogs', 'how to treat frostbites in dogs', 'how to prevent frostbites in dogs', 'what is gastrities in dogs', 'what are the signs of gastrities in dogs', 'what causes gastritis', 'how is gastritis diagnosed', 'how is gastritis treated', 'what is glaucoma', 'what causes primary glaucoma in dogs', 'what is the cause of secondary glaucoma in dogs', 'what are the signs and symptoms of glaucoma', 'how is glaucoma in dogs diagnosed', 'how is glaucoma in dogs treated', 'what is head trauma in dogs', 'what are the symptoms of head injuries in dogs', 'what are the causes of head trauma in dogs', 'diagnosis of head trauma in dogs', 'what is the treatment of head trauma in dogs', 'recovery of head trauma in dogs', 'what causes heartworm disease in dogs', 'what is the lifecycle of the heartworm', 'where is heartworm disease found', 'how is heartworm disease spread', 'what do heartworms do to the dog', 'how is heartworm disease diagnosed', 'how can i prevent my dog from getting heartworms', 'what is heatstroke in dogs', 'what are the symptoms of heatstroke in dogs', 'what are the causes of heatstrokes in dogs', 'diagnosis of heatstroke in dogs', 'treatment of heatstroke in dogs', 'recovery of heatstroke in dogs', 'what is herpies virus in dogs', 'how canine herpes virus is transmitted', 'what are symptoms of canine herpes in adult dogs', 'how common is dog herpes', 'diagnosis of canine herpes virus', 'treatment for canine herpes virus', 'preventing canine herpes virus', 'what is canine hip dysplasia', 'how can i tell if my dog has hip dysplasia', 'how do dogs get hip dysplasia', 'congenital hip dysplasia diagnosis', 'which breeds can get hip dysplasia', 'dog hip dysplasia treatment', 'exercising a dog with hip dysplasia', 'proper diet for dogs with dysplasia', 'dog hip dysplasia home treatment', 'what is histoplasmosis in dogs', 'what are symptoms of histoplasmosis in dogs', 'what are the causes of histoplasmosis in dogs', 'can you get histoplasmosis from dogs', 'is histoplasmosis contagious in dogs', 'is it okay for dogs to eat bird or bat poop', 'can bat poop make dogs sick', 'how common is histoplasmosis in dogs', 'what are hookworms', 'what are the symptoms of hookworms in dogs', 'what are the causes of hookworms in dogs', 'diagnosis of hookworms in dogs', 'treatment for hookworms in dogs', 'recovery of hookworms in dogs', 'what are hot spots on dogs', 'what do dog hot spots look like', 'what causes hot spots on dogs', 'how to treat a hot spot on a dog', 'what will the vet do to treat hot spots', 'home remedies for hot spots on dogs', 'how to prevent hot spots on dogs', 'what is hypoglycemia', 'what are the symptoms of hypoglycemia in dogs', 'causes of hypoglycemia in dogs', 'diagnosis of hypoglycemia in dogs', 'treatment of hypoglycemia in dogs', 'recovery of hypoglycemia in dogs', 'what is hypothyroidism in dogs', 'what are the symptoms of hypothyroidism ', 'treatment for hypothyroidisim in dogs', 'urinary incontinence in dogs', 'causes of urinary incontinence in dogs', 'symptoms of urinary incontinence in dogs', 'types of dogs more likely to have urinary incontinence', 'diagnosis and treatment of urinary incontinence in dogs', 'management of urinary incontinence in dogs', 'inflammatory bowel disease ibd in dogs', 'what causes ibd inflammatory bowel disease', 'what are the general symptoms of ibdinflammatory bowel disease', 'how is ibdinflammatory bowel disease diagnosed', 'which dogs are prone to ibdinflammotory bowel disease', 'how is ibdinflammotory bowel disease treated', 'what should i feed my dog with ibdinflammotory bowel disease', 'in ibdinflammotory bowel disease when is it time to see the vet', 'mosquitoe bites in dogs', 'bees wasps and hornets bites', 'what is intestinal obstruction', 'symptoms of intestinal obstruction in dogs', 'types of intestinal obstruction in dogs', 'causes of intestinal obstruction in dogs', 'diagnosis of intestinal obstruction in dogs', 'treatment of intestinal obstruction in dogs', 'recovery of intestinal obstruction in dogs', 'kennel cough in dogs', 'what is kennel cough', 'symptoms of kennel cough', 'treating and preventing kennel cough', 'kidney problems in dogs', 'what causes kidney failure in dogs', 'what are some signs of kidney disease in dogs', 'how can kidney failure be prevented', 'how is kidney disease treated', 'what foods are good for dogs with kidney disease', 'what happens if kidney disease goes untreated', 'laryngeal paralysis in dogs', 'what causes laryngeal paralysis', 'how would i know if my dog has laryngeal paralysis', 'how will my vet know if my dog has laryngeal paralysis', 'how is laryngeal paralysis treated', 'can my pet get better form laryngeal paralysis', 'what are laryngitis', 'symptoms of laryngitis in dogs', 'causes of laryngitis in dogs', 'diagnosis of laryngitis in dogs', 'treatment of laryngitis in dogs', 'recovery of laryngitis in dogs', 'what is chronic leukemia', 'symptoms of chronic leukemia in dogs', 'types of chronic leukemia in dogs', 'causes of chronic leukemia in dogs', 'diagnosis of chronic leukemia in dogs', 'treatment of chronic leukemia in dogs', 'recovery of chronic leukemia in dogs', 'what is acute leukemia', 'symptoms of acute leukemia in dogs', 'types of acute leukemia', 'causes of acute leukemia in dogs', 'diagnosis of acute leukemia in dogs', 'treatment of acute leukemia in dogs', 'recovery of acute leukemia in dogs', 'what is a lick granuloma', 'what is the cause of lick granuloma', 'how is lick granuloma diagnosed', 'treatment for lick granuloma in dogs', 'what are lipomas in dogs', 'symptoms of lipomas in dogs', 'how vets diagnose dog lipomas', 'treatment for lipomas in dogs', 'recovery and management of dog lipomas', 'do lipomas go away in dogs', 'is lipoma in dogs deadly', 'do lipomas in dogs need to be removed', 'can lipomas in dogs grow fast', 'liver disease in dogs', 'symptoms of liver disease', 'what causes liver problems', 'what is the treatment for liver dissease', 'what are the preventions taken against liver disease in dogs', 'what is lyme disease in dogs', 'what causes lyme disease', 'how is lyme disease in dogs different from lyme disease in humans', 'do we have lyme disease in this area', 'how do we treat lyme disease once it is present', 'how do we protect our dogs from lyme disease', 'what is lymphoma', 'types of lymphoma', 'what causes lymphoma in dogs', 'symptoms of lymphoma in dogs', 'diagnosing lymphoma in dogs', 'treating lymphoma in dogs', 'canine lymphoma prognosis', 'how is living with canine lymphoma', 'what is sarcoptic mange', 'symptoms of sarcoptic mange in dogs', 'causes of sarcoptic mange in dogs', 'diagnosis of sarcoptic mange in dogs', 'treatment of sarcoptic mange in dogs', 'recovery of sarcoptic mange in dogs', 'what is a mast cell', 'what is a mast cell tumor', 'what causes this cancer', 'what are the signs that my dog may have a mast cell tumor', 'what are treatments for mast cell tumor', 'what is enlargement of esophagus in dogsmegaesophagus', 'symptoms and treatment for  enlargement of esophagus in dogsmegaesophagus', 'what are the causes of enlargement of esophagus in dogsmegaesophagus', 'diagnosis for enlargement of esophagus in dogsmgaesophagus', 'treatment for enlargement of esophagus in dogsmgaesophagus', 'living and management with enlargement of esophagus in dogsmgaesophagus', 'what is motion sickness in dogs', 'what causes dog motion sickness', 'signs of dog motion sickness', 'treatment for dog motion sickness', 'dog motion sickness medications', 'what is mouth cancer', 'symptoms and types of oral cancer in dogs', 'treatment for dog mouth cancer', 'living and management with oral cancer', 'dog mouth cancer life expectancy', 'what is nasal pigmentation in dogs', 'symptoms of nasal pigmentation in dogs', 'causes of nasal pigmentation in dogs', 'treatments for nasal pigmentation in dogs', 'what is obesity', 'what are the risks with obesity', 'how do i know if my dog is obese', 'how do i adjust my dogs meals to help him lose weight', 'what happens when we reach our weight loss goal', 'osteoarthritis in dogs', 'signs and symptoms of osteoarthrities in dogs', 'diagnostics of osteoarthrities in dogs', 'treatment for osteoarthrities in dogs', 'aftercare and outcome for osteoarthirities in dogs', 'what is pancreatitis in dogs ', 'classic signs of pancreatitis in dogs', 'dehydration and pancreatitis in dogs', 'causes of pancreatitis in dogs', 'how does a vet diagnose pancreatitis in dogs', 'whats the difference between acute and chronic pancreatitis', 'treatment and management of pancreatitis in dogs', 'can supplements be used to prevent or manage pancreatitis in dogs', 'what are parvovirus', 'symptoms of parvovirus in dogs', 'types of pavovirus in dogs', 'causes of parvovirus in dogs', 'diagnosis of parvovirus in dogs', 'treatment of parvovirus in dogs', 'recovery of parvovirus in dogs', 'what is periodontal disease in dogs', 'what are symptoms of periodontal disease in dogs', 'what causes periodontal disease', 'how is periodontal disease in dogs treated', 'how can i prevent my dog from getting periodontal disease', 'what is prostate enlargement', 'symptoms of prostate enlargement in dogs', 'types of prostate enlargement in dogs', 'causes of prostate enlargement in dogs', 'diagnosis of prostate enlargement in dogs', 'treatment of prostate enlargement in dogs', 'recovery of prostate enlargement in dogs', 'what is pyoderma', 'symptoms of pyoderma in dogs', 'causes of pyoderma in dogs', 'diagnosis of pyoderma in dogs', 'treatment of pyoderma in dogs', 'recovery of pyoderma in dogs', 'what is rabies', 'how can my dog get rabies', 'what are the symptoms of rabies', 'how is rabies diagnosed and treated', 'how can you prevent rabies', 'what if i come across a rabid animal', 'what if my dog has contact with a potentially rabid animal', 'what if i think a rabid animal has bitten me', 'what are rhinitis and sinusitis', 'symptoms of rhinitis and sinusitis in dogs', 'causes of rhinitis and sinusitis in dogs', 'diagnosis of rhinitis and sinusitis in dogs', 'treatment of rhinitis and sinusitis in dogs', 'recovery of rhinitis and sinusitis in dogs', 'what is ringworm', 'symptoms of ringworm in dogs', 'types of ringworms', 'causes of ringworm in dogs', 'diagnosis of ringworm in dogs', 'treatment of ringworm in dogs', 'recovery of ringworm in dogs', 'what is rocky mountain spotted fever', 'symptoms of rocky mountain spotted fever in dogs', 'causes of rocky mountain spotted fever in dogs', 'diagnosis of rocky mountain spotted fever in dogs', 'treatment of rocky mountain spotted fever in dogs', 'recovery of rocky mountain spotted fever in dogs', 'what are roundworms', 'roundworm symptoms', 'how dogs get roundworms', 'roundworm diagnosis', 'roundworm treatment', 'roundworm prevention', 'roundworm risk to humans', 'what is a ruptured disc', 'what causes a ruptured disc in dogs', 'signs of a ruptured disc', 'how to diagnose a ruptured disc', 'treatment for ruptured discs', 'what is salmonella infection', 'symptoms of salmonella infection in dogs', 'causes of salmonella infection in dogs', 'diagnosis of salmonella infection in dogs', 'treatment of salmonella infection in dogs', 'recovery of salmonella infection in dogs', 'what is skin disease canine seborrhea', 'symptoms of skin disease canine seborrhea in dogs', 'causes of skin disease canine seborrhea in dogs', 'diagnosis of skin disease canine seborrhea in dogs', 'treatment of skin disease canine seborrhea in dogs', 'recovery of skin disease canine seborrhea in dogs', 'what are tapeworms', 'how do dogs get tapeworms', 'how to tell if your dog has tapeworms', 'diagnosis and treatment of tapeworms in dogs', 'can tapeworms be passed along to humans', 'prevention of tapeworms in dogs', 'what is the testicular tumor in dogs', 'what is the causes of testicular tumor in dogs', 'what are the signs and symptoms of testicular tumor in dogs', 'diagnosis of testicular tumor', 'treatment of testicular tumor in dogs', 'what is torn knee ligament', 'symptoms of torn knee ligament in dogs', 'types of torn knee ligament in dogs', 'causes of torn knee ligament in dogs', 'diagnosis of torn knee ligament in dogs', 'treatment of torn knee ligament in dogs', 'recovery of torn knee ligament in dogs', 'tracheal collapse in dogs', 'signs of tracheal collapse in dogs', 'which dogs are prone to tracheal collapse', 'classifications of tracheal collapse', 'making a diagnosis of tracheal collapse', 'treatment of tracheal collapse in dogs', 'what are stomach and intestinal ulcers', 'symptoms of stomach and intestinal ulcers in dogs', 'causes of stomach and intestinal ulcers in dogs', 'diagnosis of stomach and intestinal ulcers in dogs', 'treatment of stomach and intestinal ulcers in dogs', 'recovery of stomach and intestinal ulcers in dogs', 'what is urinary tract infection', 'symptoms of urinary tract infection in dogs', 'causes of urinary tract infection in dogs', 'diagnosis of urinary tract infection in dogs', 'treatment of urinary tract infection in dogs', 'recovery of urinary tract infection in dogs', 'what are whipworms', 'symptoms of whipworms in dogs', 'causes of whipworms in dogs', 'diagnosis of whipworms in dogs', 'treatment of whipworms in dogs', 'recovery of whipworms in dogs', 'what is fungal infection yeast', 'symptoms of fungal infection yeast in dogs', 'types of yest infection', 'causes of fungal infection yeast in dogs', 'diagnosis of fungal infection yeast in dogs', 'treatment of fungal infection yeast in dogs', 'recovery of fungal infection yeast in dogs', 'dog stomach swelling common causes and treatments', 'tips to prevent stomach problems in your dog', 'what are the reasons of your dog is not eating or feeling loss of apetite', 'what to do when your dog wont eat', 'tips and guidline to prevent dental problems in your pet and keep their mouth clean', 'why dogs pant heavily common causes', 'reasons why dogs compulsively scratch lick or chew', 'treatment for your dogs compulsive scratching licking and chewing', 'what to do if your dog is choking', 'what to do if your pet is experiencing seizures', 'what is the problem if your dog is falling down again and again and always loosing its balance', 'what is the cause of constipation in dogs', 'what can we do if the dog is having constipation treatment for constipation', 'why is the dog coughing continously or reasons for non stop coughing in dogs', 'why does my dog have dandruff', 'how can i help keep my dogs skin and coat healthy and dandruff away', 'how do i know if my dog has dandruff', 'keeping your dag safe from the heat of summer and avoiding dehydration', 'warning sign for dehydration and heatstrokes in dogs', 'why dogs drag their bottoms scooting common causes and treatments', 'how to check your dogs bottoms', 'why does my dog drool so much', 'why is my dog gaining weight', 'how to tell if your dog is overweight', 'what is urinary incontinence in dogs', 'causes of urinary incontinence in dogs', 'painful urination in dogs', 'signs of abnormal urination in dogs', 'abnormal urination in dogs common causes and treatments', 'how to read your dogs body language tail wagging raised hackles posture facial expressions eyes', 'why is my dog always thirsty', 'dog shivering and trembling common causes and treatments', 'types of lumps and bumps', 'how to stop a dogs nosebleed', 'food and products that are posinious to dogs', 'what to do for suspected dog poisoning', 'dog weakness and lethargy common causes and treatments']\n"
          ]
        }
      ],
      "source": [
        "import re\n",
        "import gensim\n",
        "from gensim.parsing.preprocessing import remove_stopwords\n",
        "\n",
        "#from nltk.stem.lancaster import LancasterStemmer\n",
        "#st = LancasterStemmer()\n",
        "\n",
        "def clean_sentence(sentence, stopwords=False):\n",
        "\n",
        "    sentence = sentence.lower().strip()\n",
        "    sentence = re.sub(r'[^a-z0-9\\s]', '', sentence)\n",
        "    #sentence = re.sub(r'\\s{2,}', ' ', sentence)\n",
        "\n",
        "    if stopwords:\n",
        "         sentence = remove_stopwords(sentence)\n",
        "\n",
        "    #sent_stemmed='';\n",
        "    #for word in sentence.split():\n",
        "    #    sent_stemmed+=' '+st.stem(word)\n",
        "    #sentence=sent_stemmed\n",
        "\n",
        "    return sentence\n",
        "\n",
        "def get_cleaned_sentences(df,stopwords=False):\n",
        "    sents=df[[\"Question\"]];\n",
        "    cleaned_sentences=[]\n",
        "\n",
        "    for index,row in df.iterrows():\n",
        "        #print(index,row)\n",
        "        cleaned=clean_sentence(row[\"Question\"],stopwords);\n",
        "        cleaned_sentences.append(cleaned);\n",
        "    return cleaned_sentences;\n",
        "\n",
        "cleaned_sentences=get_cleaned_sentences(df,stopwords=True)\n",
        "print(cleaned_sentences);\n",
        "\n",
        "print(\"\\n\")\n",
        "\n",
        "cleaned_sentences_with_stopwords=get_cleaned_sentences(df,stopwords=False)\n",
        "print(cleaned_sentences_with_stopwords);"
      ]
    },
    {
      "cell_type": "markdown",
      "metadata": {
        "id": "ppKqV7yqD0-D"
      },
      "source": [
        "### Answer Retreival using BOW(Bag of words)"
      ]
    },
    {
      "cell_type": "code",
      "execution_count": null,
      "metadata": {
        "colab": {
          "base_uri": "https://localhost:8080/"
        },
        "id": "_bkucpOED2Nu",
        "outputId": "bb41aa8d-a4ad-456b-c02b-87e930c1fc4f"
      },
      "outputs": [
        {
          "output_type": "stream",
          "name": "stdout",
          "text": [
            "\n",
            "\n",
            " how to get rid of fleas on your pet \n",
            " [(0, 1), (2, 1), (3, 1), (7, 1), (8, 1), (9, 1), (10, 1), (11, 1), (12, 1)]\n"
          ]
        }
      ],
      "source": [
        "#vector representation for each sentence using BOW, and then computing the distance between two vectors by taking the cosine similarity\n",
        "import numpy\n",
        "import pprint\n",
        "sentences=cleaned_sentences_with_stopwords\n",
        "#sentences=cleaned_sentences\n",
        "\n",
        "# Split it by white space\n",
        "sentence_words = [[word for word in document.split() ]\n",
        "         for document in sentences]\n",
        "\n",
        "from gensim import corpora\n",
        "\n",
        "dictionary = corpora.Dictionary(sentence_words)\n",
        "#for key, value in dictionary.items():\n",
        "    #print(key, ' : ', value)\n",
        "bow_corpus = [dictionary.doc2bow(text) for text in sentence_words]\n",
        "for sent,embedding in zip(sentences,bow_corpus):\n",
        "    #print(sent)\n",
        "    #print(embedding)\n",
        "    question_orig=\"How to get rid of fleas on your pet?\"\n",
        "    question=clean_sentence(question_orig,stopwords=False);\n",
        "    question_embedding = dictionary.doc2bow(question.split())\n",
        "\n",
        "\n",
        "print(\"\\n\\n\",question,\"\\n\",question_embedding)"
      ]
    },
    {
      "cell_type": "code",
      "execution_count": null,
      "metadata": {
        "colab": {
          "base_uri": "https://localhost:8080/"
        },
        "id": "ARKVjx8OD5r5",
        "outputId": "a34fa9a2-e69e-4485-ae23-47cc17ecdd37"
      },
      "outputs": [
        {
          "output_type": "stream",
          "name": "stdout",
          "text": [
            "Question:  how to get rid of fleas on your pet\n",
            "\n",
            "\n",
            "Retrieved:  How to spot for the signs of Fleas?\n",
            "Every pet owner should be aware of the signs of a possible flea infestation. They include:\n",
            "\n",
            "Your dog (or cat) is scratching. Even if you don?t catch fleas red-handed, if you see your pet scratching or biting at its fur, fleas may well be the culprit. That?s because not only can fleas cause a sharp pain when they bite, their salivary glands give off a substance that's irritating to many dogs and cats.\n",
            "\n",
            "You can see them. Adult fleas are about an eighth of an inch long. They?re reddish-brown and very thin. It?s hard to really see what they look like without a microscope (though it?s easier on a light-coloured fur), but they do have big back legs. They can jump, by some measurements, upward and outward at least 12 inches in a single leap. And one estimation finds that for every adult flea found on your pet, there are at least 100 immature ones hanging around.\n",
            "\n",
            "You can see what they leave behind. It?s called ?flea dirt,? and it looks a little like pepper. You can spot it on your pet?s skin, or your pet could leave it someplace, like:\n",
            "\n",
            "1. Its bedding\n",
            "2. The carpet\n",
            "3. That favourite chair they have been sleeping on even though you?ve ushered them off it a thousand times\n",
            "The specks are actually bits of dried blood that will turn from black, to brown, and finally back to red if you rehydrate them on a wet paper towel. You can see other suspicious stuff around your home: Fleas lay eggs on your pet -- tiny white ovals -- that mostly fall off into the environment around it (your bed, the dog bed, the carpet, that favourite chair), only to hatch a few days later into flea larvae.\n",
            "\n",
            "You can see larvae, too. They're little, squiggly, worm-looking things with brown heads that will feed on all those specks until they wrap themselves up into a cocoon called a pupa. From larva to pupa takes about 3-4 weeks. After that, they?re fully grown fleas, looking for a ride and a little of your pet?s (or your) blood.\n",
            "\n",
            "If you see tapeworms -- internal parasites that are white or pinkish white and look like small pieces of rice that often show up by slipping out of your pet?s rectum -- that?s a sign your pet may have been having it out with fleas.\n",
            "\n",
            "Your dog (or cat) is losing its hair: It?s not from the fleas themselves, but from all the itching and biting. Fleas often gather at the neck and shoulder blades of your pets. The base of the tail and along the back of the legs is a favourite hangout for them, too. Those are also places animals will bite to get to the fleas. That can take its toll on a pet?s coat. With full-blown infestations, fleas are visible in the bare areas of a pet?s belly, too.\n",
            "\n",
            "Their skin looks irritated: If you can get past your pet?s fur and look at the skin, fleabites are usually small, raised red dots. Again, look for bites on the back and neck and on the base of the tail. Another problem with fleabites is they can lead to flea allergy dermatitis, also known as fleabite hypersensitivity. If your pet has this, their skin can become itchy, red, and scaly. It can lead to secondary skin infections, too.\n",
            "\n",
            "Their gums are pale: With a large infestation of fleas, some pets (especially smaller kittens or pups) could be in danger of anaemia, or a loss of red blood cells. Fleas can take in up to 15 times their body weight in blood. Pale gums often signal anaemia.\n",
            "\n",
            "Fleas are, in the strictest sense of the word, pests. But they can be way more than that. They can transmit disease (to humans, too) and cause life-threatening problems for your pet. If you see any signs of fleas, ask your veterinarian what to do.\n"
          ]
        }
      ],
      "source": [
        "import sklearn\n",
        "from sklearn.metrics.pairwise import cosine_similarity;\n",
        "def retrieveAndPrintFAQAnswer(question_embedding,sentence_embeddings,FAQdf,sentences):\n",
        "    global context\n",
        "    max_sim=-1;\n",
        "    index_sim=-1;\n",
        "    for index,faq_embedding in enumerate(sentence_embeddings):\n",
        "        #sim=cosine_similarity(embedding.reshape(1, -1),question_embedding.reshape(1, -1))[0][0];\n",
        "        sim=cosine_similarity(faq_embedding,question_embedding)[0][0];\n",
        "        #print(index, sim, sentences[index])\n",
        "        if sim>max_sim:\n",
        "            max_sim=sim;\n",
        "            index_sim=index;\n",
        "\n",
        "    print(\"Question: \",question)\n",
        "    print(\"\\n\");\n",
        "    print(\"Retrieved: \",FAQdf.iloc[index_sim,0])\n",
        "    context = FAQdf.iloc[index_sim,1]\n",
        "    print(context)\n",
        "\n",
        "retrieveAndPrintFAQAnswer(question_embedding,bow_corpus,df,sentences)"
      ]
    },
    {
      "cell_type": "markdown",
      "metadata": {
        "id": "FsYiiIA9EZAb"
      },
      "source": [
        "### Using Word2Vec"
      ]
    },
    {
      "cell_type": "code",
      "execution_count": null,
      "metadata": {
        "colab": {
          "base_uri": "https://localhost:8080/"
        },
        "id": "7x0Qsbv1Ea1l",
        "outputId": "81c67e70-a968-47a2-b1ac-65bca62a32b3"
      },
      "outputs": [
        {
          "output_type": "stream",
          "name": "stdout",
          "text": [
            "[==================================================] 100.0% 1662.8/1662.8MB downloaded\n",
            "Saved Word2vec model\n"
          ]
        }
      ],
      "source": [
        "#Word2Vec embedding\n",
        "\n",
        "from gensim.models import Word2Vec\n",
        "import gensim.downloader as api\n",
        "\n",
        "v2w_model=None;\n",
        "try:\n",
        "    v2w_model = gensim.models.KeyedVectors.load(\"./w2vecmodel.mod\")\n",
        "    print(\"Loaded w2v model\")\n",
        "except:\n",
        "    v2w_model = api.load('word2vec-google-news-300')\n",
        "    v2w_model.save(\"./w2vecmodel.mod\")\n",
        "    print(\"Saved Word2vec model\")\n",
        "\n",
        "w2vec_embedding_size=len(v2w_model['computer']);"
      ]
    },
    {
      "cell_type": "code",
      "execution_count": null,
      "metadata": {
        "id": "LpW-gzTHEcfI"
      },
      "outputs": [],
      "source": [
        "# Finding Phrase Embeddings from Word Embeddings\n",
        "\n",
        "def getWordVec(word,model):\n",
        "        samp=model['computer'];\n",
        "        vec=[0]*len(samp);\n",
        "        try:\n",
        "                vec=model[word];\n",
        "        except:\n",
        "                vec=[0]*len(samp);\n",
        "        return (vec)\n",
        "\n",
        "\n",
        "def getPhraseEmbedding(phrase,embeddingmodel):\n",
        "\n",
        "        samp=getWordVec('computer', embeddingmodel);\n",
        "        vec=numpy.array([0]*len(samp));\n",
        "        den=0;\n",
        "        for word in phrase.split():\n",
        "            #print(word)\n",
        "            den=den+1;\n",
        "            vec=vec+numpy.array(getWordVec(word,embeddingmodel));\n",
        "        #vec=vec/den;\n",
        "        #return (vec.tolist());\n",
        "        return vec.reshape(1, -1)"
      ]
    },
    {
      "cell_type": "code",
      "execution_count": null,
      "metadata": {
        "id": "C-p_bydvEgEp",
        "colab": {
          "base_uri": "https://localhost:8080/"
        },
        "outputId": "d231dfce-08f4-43b8-f8ca-125aeaa92441"
      },
      "outputs": [
        {
          "output_type": "stream",
          "name": "stdout",
          "text": [
            "Question:  how to get rid of fleas on your pet\n",
            "\n",
            "\n",
            "Retrieved:  How to get rid of fleas on your pet?\n",
            "The scratching, the biting at the fur, maybe even the big patches of irritated skin all point to fleas. A fine-toothed flea comb run through your pet?s fur can confirm it if it picks up adult fleas and maybe some ?flea dirt,? little spots that look like pepper.\n",
            "The \"dirt\" is actually flea poop, made mostly from your pet?s dried blood. You may be able to see fleas without a comb if you separate the hair between your pet?s shoulder blades or at the base of the tail.\n",
            "First, check with your veterinarian.\n",
            "A lot of those flea prevention products -- as long as they?re not combined with heartworm prevention -- you can get them over the counter.\n",
            "The soap in a bath can act as a gentle insecticide. Other problems that come from fleabites -- open sores from scratching or other skin problems like rashes -- may call for stronger kinds of help. Again, see your vet.\n",
            "If you?re starting to see some irritation on the pet?s skin. That?s when you probably need to schedule a visit with your veterinarian so they can prescribe an antibiotic if there seems to be an infection.\n",
            "The medication Anderson suggests after that initial bath is a chemical insecticide designed to kill fleas. So it?s critical to follow the instructions to the letter.\n",
            "Don't use flea prevention meant for a dog on a cat. That can be life-threatening.\n",
            "Your pet?s vet can recommend the type of prevention that will keep fleas from hitching a ride on Spot or Fluffy again. It comes in different forms:\n",
            "? Topical (like a liquid or gel applied to your pet?s skin)\n",
            "? Oral (taken as a pill or treat)\n",
            "? Flea collars\n",
            "\n",
            "\n",
            "\n"
          ]
        }
      ],
      "source": [
        "#With w2Vec\n",
        "\n",
        "sent_embeddings=[];\n",
        "for sent in cleaned_sentences:\n",
        "    sent_embeddings.append(getPhraseEmbedding(sent,v2w_model));\n",
        "\n",
        "question_embedding=getPhraseEmbedding(question,v2w_model);\n",
        "\n",
        "retrieveAndPrintFAQAnswer(question_embedding,sent_embeddings,df, cleaned_sentences);"
      ]
    }
  ]
}