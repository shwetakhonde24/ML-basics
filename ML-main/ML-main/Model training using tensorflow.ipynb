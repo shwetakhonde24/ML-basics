{
  "nbformat": 4,
  "nbformat_minor": 0,
  "metadata": {
    "colab": {
      "name": "Copy of test-successful.ipynb",
      "provenance": [],
      "collapsed_sections": [],
      "authorship_tag": "ABX9TyO9KR0Ex2L0wPSurSdA8Z8W",
      "include_colab_link": true
    },
    "kernelspec": {
      "name": "python3",
      "display_name": "Python 3"
    }
  },
  "cells": [
    {
      "cell_type": "markdown",
      "metadata": {
        "id": "view-in-github",
        "colab_type": "text"
      },
      "source": [
        "<a href=\"https://colab.research.google.com/github/sh-shrey/ML/blob/main/Model%20training%20using%20tensorflow.ipynb\" target=\"_parent\"><img src=\"https://colab.research.google.com/assets/colab-badge.svg\" alt=\"Open In Colab\"/></a>"
      ]
    },
    {
      "cell_type": "code",
      "metadata": {
        "colab": {
          "base_uri": "https://localhost:8080/"
        },
        "id": "Ug0_iwgiaQ7l",
        "outputId": "f35ad605-5414-4eba-bdf2-15fcdf0fa7e0"
      },
      "source": [
        "from google.colab import drive\n",
        "drive.mount('/content/gdrive')"
      ],
      "execution_count": null,
      "outputs": [
        {
          "output_type": "stream",
          "text": [
            "Mounted at /content/gdrive\n"
          ],
          "name": "stdout"
        }
      ]
    },
    {
      "cell_type": "markdown",
      "metadata": {
        "id": "BDKOI7WQj4mw"
      },
      "source": [
        "classification with tensorflow 2.0"
      ]
    },
    {
      "cell_type": "code",
      "metadata": {
        "id": "THtLIdfMa18o"
      },
      "source": [
        "import pandas as pd\n",
        "import numpy as np\n",
        "import tensorflow as tf\n",
        "\n",
        "import matplotlib.pyplot as plt\n",
        "%matplotlib inline\n",
        "\n",
        "import seaborn as sns\n",
        "sns.set(style=\"darkgrid\")"
      ],
      "execution_count": null,
      "outputs": []
    },
    {
      "cell_type": "code",
      "metadata": {
        "colab": {
          "base_uri": "https://localhost:8080/"
        },
        "id": "GdivByRca_MY",
        "outputId": "b89f3d4d-6b00-4d5b-9ac7-f5df76a9c89c"
      },
      "source": [
        "print(tf.__version__)"
      ],
      "execution_count": null,
      "outputs": [
        {
          "output_type": "stream",
          "text": [
            "2.4.0\n"
          ],
          "name": "stdout"
        }
      ]
    },
    {
      "cell_type": "code",
      "metadata": {
        "id": "btKNFZ-nbEJW"
      },
      "source": [
        "import pandas as pd\n",
        "df= pd.read_csv('/content/gdrive/MyDrive/final_analysis.csv')"
      ],
      "execution_count": null,
      "outputs": []
    },
    {
      "cell_type": "code",
      "metadata": {
        "colab": {
          "base_uri": "https://localhost:8080/",
          "height": 204
        },
        "id": "aVRJXuuebQ8T",
        "outputId": "b62fabbc-0d0a-42a9-f0ba-9b968b443373"
      },
      "source": [
        "df.head()"
      ],
      "execution_count": null,
      "outputs": [
        {
          "output_type": "execute_result",
          "data": {
            "text/html": [
              "<div>\n",
              "<style scoped>\n",
              "    .dataframe tbody tr th:only-of-type {\n",
              "        vertical-align: middle;\n",
              "    }\n",
              "\n",
              "    .dataframe tbody tr th {\n",
              "        vertical-align: top;\n",
              "    }\n",
              "\n",
              "    .dataframe thead th {\n",
              "        text-align: right;\n",
              "    }\n",
              "</style>\n",
              "<table border=\"1\" class=\"dataframe\">\n",
              "  <thead>\n",
              "    <tr style=\"text-align: right;\">\n",
              "      <th></th>\n",
              "      <th>gender</th>\n",
              "      <th>N1</th>\n",
              "      <th>N2</th>\n",
              "      <th>N5</th>\n",
              "      <th>N6</th>\n",
              "      <th>N8</th>\n",
              "      <th>N9</th>\n",
              "      <th>N10</th>\n",
              "      <th>A9</th>\n",
              "      <th>C9</th>\n",
              "      <th>lack_of_concentration</th>\n",
              "      <th>tiredness</th>\n",
              "      <th>sleep_hour</th>\n",
              "      <th>Mood_prediction</th>\n",
              "    </tr>\n",
              "  </thead>\n",
              "  <tbody>\n",
              "    <tr>\n",
              "      <th>0</th>\n",
              "      <td>1</td>\n",
              "      <td>1</td>\n",
              "      <td>5</td>\n",
              "      <td>1</td>\n",
              "      <td>1</td>\n",
              "      <td>1</td>\n",
              "      <td>1</td>\n",
              "      <td>1</td>\n",
              "      <td>4</td>\n",
              "      <td>4</td>\n",
              "      <td>0</td>\n",
              "      <td>0</td>\n",
              "      <td>0</td>\n",
              "      <td>1</td>\n",
              "    </tr>\n",
              "    <tr>\n",
              "      <th>1</th>\n",
              "      <td>2</td>\n",
              "      <td>2</td>\n",
              "      <td>3</td>\n",
              "      <td>3</td>\n",
              "      <td>4</td>\n",
              "      <td>2</td>\n",
              "      <td>2</td>\n",
              "      <td>4</td>\n",
              "      <td>4</td>\n",
              "      <td>4</td>\n",
              "      <td>0</td>\n",
              "      <td>0</td>\n",
              "      <td>0</td>\n",
              "      <td>0</td>\n",
              "    </tr>\n",
              "    <tr>\n",
              "      <th>2</th>\n",
              "      <td>2</td>\n",
              "      <td>5</td>\n",
              "      <td>1</td>\n",
              "      <td>5</td>\n",
              "      <td>5</td>\n",
              "      <td>5</td>\n",
              "      <td>5</td>\n",
              "      <td>5</td>\n",
              "      <td>5</td>\n",
              "      <td>5</td>\n",
              "      <td>1</td>\n",
              "      <td>1</td>\n",
              "      <td>1</td>\n",
              "      <td>0</td>\n",
              "    </tr>\n",
              "    <tr>\n",
              "      <th>3</th>\n",
              "      <td>2</td>\n",
              "      <td>5</td>\n",
              "      <td>4</td>\n",
              "      <td>4</td>\n",
              "      <td>5</td>\n",
              "      <td>5</td>\n",
              "      <td>4</td>\n",
              "      <td>5</td>\n",
              "      <td>4</td>\n",
              "      <td>2</td>\n",
              "      <td>1</td>\n",
              "      <td>1</td>\n",
              "      <td>1</td>\n",
              "      <td>0</td>\n",
              "    </tr>\n",
              "    <tr>\n",
              "      <th>4</th>\n",
              "      <td>2</td>\n",
              "      <td>3</td>\n",
              "      <td>3</td>\n",
              "      <td>3</td>\n",
              "      <td>3</td>\n",
              "      <td>3</td>\n",
              "      <td>3</td>\n",
              "      <td>4</td>\n",
              "      <td>5</td>\n",
              "      <td>3</td>\n",
              "      <td>0</td>\n",
              "      <td>0</td>\n",
              "      <td>0</td>\n",
              "      <td>0</td>\n",
              "    </tr>\n",
              "  </tbody>\n",
              "</table>\n",
              "</div>"
            ],
            "text/plain": [
              "   gender  N1  N2  ...  tiredness  sleep_hour  Mood_prediction\n",
              "0       1   1   5  ...          0           0                1\n",
              "1       2   2   3  ...          0           0                0\n",
              "2       2   5   1  ...          1           1                0\n",
              "3       2   5   4  ...          1           1                0\n",
              "4       2   3   3  ...          0           0                0\n",
              "\n",
              "[5 rows x 14 columns]"
            ]
          },
          "metadata": {
            "tags": []
          },
          "execution_count": 5
        }
      ]
    },
    {
      "cell_type": "code",
      "metadata": {
        "id": "kI8e7JpgbVeB"
      },
      "source": [
        "plot_size = plt.rcParams[\"figure.figsize\"]\n",
        "plot_size [0] = 8\n",
        "plot_size [1] = 6\n",
        "plt.rcParams[\"figure.figsize\"] = plot_size"
      ],
      "execution_count": null,
      "outputs": []
    },
    {
      "cell_type": "code",
      "metadata": {
        "colab": {
          "base_uri": "https://localhost:8080/",
          "height": 374
        },
        "id": "3zsLh3G3ba-u",
        "outputId": "d6afb6ed-4a81-41b4-9035-04cec6826495"
      },
      "source": [
        "df.Mood_prediction.value_counts().plot(kind='pie', autopct='%0.05f%%', colors=['lightblue', 'lightgreen', 'orange', 'pink'], explode=(0.05, 0.05))"
      ],
      "execution_count": null,
      "outputs": [
        {
          "output_type": "execute_result",
          "data": {
            "text/plain": [
              "<matplotlib.axes._subplots.AxesSubplot at 0x7f69015932b0>"
            ]
          },
          "metadata": {
            "tags": []
          },
          "execution_count": 9
        },
        {
          "output_type": "display_data",
          "data": {
            "image/png": "[encoded data removed]",
            "text/plain": [
              "<Figure size 576x432 with 1 Axes>"
            ]
          },
          "metadata": {
            "tags": []
          }
        }
      ]
    },
    {
      "cell_type": "code",
      "metadata": {
        "id": "3d7nLmJUcltb"
      },
      "source": [
        "gender = pd.get_dummies(df.gender, prefix='gender')\n",
        "N1 = pd.get_dummies(df.N1, prefix='N1')\n",
        "N2 = pd.get_dummies(df.N2, prefix='N2')\n",
        "N5 = pd.get_dummies(df.N5, prefix='N5')\n",
        "N6 = pd.get_dummies(df.N6, prefix='N6')\n",
        "N8 = pd.get_dummies(df.N8, prefix='N8')\n",
        "N9 = pd.get_dummies(df.N9, prefix='N9')\n",
        "N10 = pd.get_dummies(df.N10, prefix='N10')\n",
        "A9 = pd.get_dummies(df.A9, prefix='A9')\n",
        "C9 = pd.get_dummies(df.C9, prefix='C9')\n",
        "N10 = pd.get_dummies(df.N10, prefix='N10')\n",
        "concentration = pd.get_dummies(df.lack_of_concentration, prefix='concentration')\n",
        "tiredeness = pd.get_dummies(df.tiredness, prefix='tiredness')\n",
        "sleep_hour = pd.get_dummies(df.sleep_hour, prefix='sleep_hour')\n",
        "labels = pd.get_dummies(df.Mood_prediction, prefix='condition')"
      ],
      "execution_count": null,
      "outputs": []
    },
    {
      "cell_type": "code",
      "metadata": {
        "id": "v1vcS7tqg2bL"
      },
      "source": [
        "X = pd.concat([gender,N1,N2,N5,N6,N8,N9,N10,A9,C9,concentration,tiredeness,sleep_hour] , axis=1)"
      ],
      "execution_count": null,
      "outputs": []
    },
    {
      "cell_type": "code",
      "metadata": {
        "colab": {
          "base_uri": "https://localhost:8080/",
          "height": 204
        },
        "id": "S7a_gvvphUg8",
        "outputId": "dd845bab-17e3-4f5d-e81d-94bc38d4b74c"
      },
      "source": [
        "labels.head()"
      ],
      "execution_count": null,
      "outputs": [
        {
          "output_type": "execute_result",
          "data": {
            "text/html": [
              "<div>\n",
              "<style scoped>\n",
              "    .dataframe tbody tr th:only-of-type {\n",
              "        vertical-align: middle;\n",
              "    }\n",
              "\n",
              "    .dataframe tbody tr th {\n",
              "        vertical-align: top;\n",
              "    }\n",
              "\n",
              "    .dataframe thead th {\n",
              "        text-align: right;\n",
              "    }\n",
              "</style>\n",
              "<table border=\"1\" class=\"dataframe\">\n",
              "  <thead>\n",
              "    <tr style=\"text-align: right;\">\n",
              "      <th></th>\n",
              "      <th>condition_0</th>\n",
              "      <th>condition_1</th>\n",
              "    </tr>\n",
              "  </thead>\n",
              "  <tbody>\n",
              "    <tr>\n",
              "      <th>0</th>\n",
              "      <td>0</td>\n",
              "      <td>1</td>\n",
              "    </tr>\n",
              "    <tr>\n",
              "      <th>1</th>\n",
              "      <td>1</td>\n",
              "      <td>0</td>\n",
              "    </tr>\n",
              "    <tr>\n",
              "      <th>2</th>\n",
              "      <td>1</td>\n",
              "      <td>0</td>\n",
              "    </tr>\n",
              "    <tr>\n",
              "      <th>3</th>\n",
              "      <td>1</td>\n",
              "      <td>0</td>\n",
              "    </tr>\n",
              "    <tr>\n",
              "      <th>4</th>\n",
              "      <td>1</td>\n",
              "      <td>0</td>\n",
              "    </tr>\n",
              "  </tbody>\n",
              "</table>\n",
              "</div>"
            ],
            "text/plain": [
              "   condition_0  condition_1\n",
              "0            0            1\n",
              "1            1            0\n",
              "2            1            0\n",
              "3            1            0\n",
              "4            1            0"
            ]
          },
          "metadata": {
            "tags": []
          },
          "execution_count": 12
        }
      ]
    },
    {
      "cell_type": "code",
      "metadata": {
        "id": "87PDHiSzhYdo"
      },
      "source": [
        "y = labels.values"
      ],
      "execution_count": null,
      "outputs": []
    },
    {
      "cell_type": "code",
      "metadata": {
        "id": "kz6cJBQrhebr"
      },
      "source": [
        "from sklearn.model_selection import train_test_split\n",
        "X_train, X_test, y_train, y_test = train_test_split(X, y, test_size=0.20, random_state=42)"
      ],
      "execution_count": null,
      "outputs": []
    },
    {
      "cell_type": "code",
      "metadata": {
        "id": "mfOFCBtnhwJt"
      },
      "source": [
        "X_train, X_val, y_train, y_val  = train_test_split(X_train, y_train, test_size=0.25, random_state=1) "
      ],
      "execution_count": null,
      "outputs": []
    },
    {
      "cell_type": "code",
      "metadata": {
        "id": "PZBRqsaIh_Yh"
      },
      "source": [
        "from tensorflow.keras.layers import Input, Dense, Activation,Dropout\n",
        "from tensorflow.keras.models import Model"
      ],
      "execution_count": null,
      "outputs": []
    },
    {
      "cell_type": "code",
      "metadata": {
        "id": "yjeWJVixiEeD"
      },
      "source": [
        "input_layer = Input(shape=(X.shape[1],))\n",
        "dense_layer_1 = Dense(15, activation='relu')(input_layer)\n",
        "dense_layer_2 = Dense(10, activation='relu')(dense_layer_1)\n",
        "output = Dense(y.shape[1], activation='softmax')(dense_layer_2)\n",
        "\n",
        "model = Model(inputs=input_layer, outputs=output)\n",
        "model.compile(loss='categorical_crossentropy', optimizer='adam', metrics=['acc'])"
      ],
      "execution_count": null,
      "outputs": []
    },
    {
      "cell_type": "code",
      "metadata": {
        "colab": {
          "base_uri": "https://localhost:8080/"
        },
        "id": "ewrYWt3KiGSM",
        "outputId": "7b9cee5a-f97f-4d75-df61-545191672ef1"
      },
      "source": [
        "print(model.summary())"
      ],
      "execution_count": null,
      "outputs": [
        {
          "output_type": "stream",
          "text": [
            "Model: \"model\"\n",
            "_________________________________________________________________\n",
            "Layer (type)                 Output Shape              Param #   \n",
            "=================================================================\n",
            "input_1 (InputLayer)         [(None, 64)]              0         \n",
            "_________________________________________________________________\n",
            "dense (Dense)                (None, 15)                975       \n",
            "_________________________________________________________________\n",
            "dense_1 (Dense)              (None, 10)                160       \n",
            "_________________________________________________________________\n",
            "dense_2 (Dense)              (None, 2)                 22        \n",
            "=================================================================\n",
            "Total params: 1,157\n",
            "Trainable params: 1,157\n",
            "Non-trainable params: 0\n",
            "_________________________________________________________________\n",
            "None\n"
          ],
          "name": "stdout"
        }
      ]
    },
    {
      "cell_type": "code",
      "metadata": {
        "colab": {
          "base_uri": "https://localhost:8080/"
        },
        "id": "cSCFR0kIiLBt",
        "outputId": "fba9dc47-869d-444b-b2f3-e657d3d7dd48"
      },
      "source": [
        "history = model.fit(X_train, y_train, batch_size=8, epochs=50, verbose=1, validation_split=0.2)"
      ],
      "execution_count": null,
      "outputs": [
        {
          "output_type": "stream",
          "text": [
            "Epoch 1/50\n",
            "1183/1183 [==============================] - 3s 2ms/step - loss: 0.3183 - acc: 0.8262 - val_loss: 0.0391 - val_acc: 0.9941\n",
            "Epoch 2/50\n",
            "1183/1183 [==============================] - 2s 1ms/step - loss: 0.0351 - acc: 0.9914 - val_loss: 0.0304 - val_acc: 0.9844\n",
            "Epoch 3/50\n",
            "1183/1183 [==============================] - 2s 1ms/step - loss: 0.0240 - acc: 0.9942 - val_loss: 0.0146 - val_acc: 0.9958\n",
            "Epoch 4/50\n",
            "1183/1183 [==============================] - 2s 2ms/step - loss: 0.0121 - acc: 0.9976 - val_loss: 0.0079 - val_acc: 0.9983\n",
            "Epoch 5/50\n",
            "1183/1183 [==============================] - 2s 2ms/step - loss: 0.0062 - acc: 0.9996 - val_loss: 0.0046 - val_acc: 0.9992\n",
            "Epoch 6/50\n",
            "1183/1183 [==============================] - 2s 2ms/step - loss: 0.0035 - acc: 0.9996 - val_loss: 0.0041 - val_acc: 0.9992\n",
            "Epoch 7/50\n",
            "1183/1183 [==============================] - 2s 2ms/step - loss: 0.0021 - acc: 0.9997 - val_loss: 0.0018 - val_acc: 1.0000\n",
            "Epoch 8/50\n",
            "1183/1183 [==============================] - 2s 1ms/step - loss: 8.6698e-04 - acc: 1.0000 - val_loss: 8.1240e-04 - val_acc: 1.0000\n",
            "Epoch 9/50\n",
            "1183/1183 [==============================] - 2s 1ms/step - loss: 5.9321e-04 - acc: 1.0000 - val_loss: 7.4120e-04 - val_acc: 1.0000\n",
            "Epoch 10/50\n",
            "1183/1183 [==============================] - 2s 1ms/step - loss: 0.0102 - acc: 0.9967 - val_loss: 7.0762e-04 - val_acc: 1.0000\n",
            "Epoch 11/50\n",
            "1183/1183 [==============================] - 2s 1ms/step - loss: 2.8537e-04 - acc: 1.0000 - val_loss: 5.3721e-04 - val_acc: 1.0000\n",
            "Epoch 12/50\n",
            "1183/1183 [==============================] - 2s 2ms/step - loss: 1.6916e-04 - acc: 1.0000 - val_loss: 3.8664e-04 - val_acc: 1.0000\n",
            "Epoch 13/50\n",
            "1183/1183 [==============================] - 2s 2ms/step - loss: 1.3056e-04 - acc: 1.0000 - val_loss: 1.9173e-04 - val_acc: 1.0000\n",
            "Epoch 14/50\n",
            "1183/1183 [==============================] - 2s 2ms/step - loss: 1.1153e-04 - acc: 1.0000 - val_loss: 1.1667e-04 - val_acc: 1.0000\n",
            "Epoch 15/50\n",
            "1183/1183 [==============================] - 2s 1ms/step - loss: 0.0120 - acc: 0.9969 - val_loss: 0.0032 - val_acc: 0.9996\n",
            "Epoch 16/50\n",
            "1183/1183 [==============================] - 2s 1ms/step - loss: 3.8094e-04 - acc: 1.0000 - val_loss: 1.5179e-04 - val_acc: 1.0000\n",
            "Epoch 17/50\n",
            "1183/1183 [==============================] - 2s 1ms/step - loss: 7.1220e-05 - acc: 1.0000 - val_loss: 1.2335e-04 - val_acc: 1.0000\n",
            "Epoch 18/50\n",
            "1183/1183 [==============================] - 2s 1ms/step - loss: 5.8343e-05 - acc: 1.0000 - val_loss: 9.8105e-05 - val_acc: 1.0000\n",
            "Epoch 19/50\n",
            "1183/1183 [==============================] - 2s 2ms/step - loss: 4.5136e-05 - acc: 1.0000 - val_loss: 9.2308e-05 - val_acc: 1.0000\n",
            "Epoch 20/50\n",
            "1183/1183 [==============================] - 2s 2ms/step - loss: 3.4685e-05 - acc: 1.0000 - val_loss: 6.3760e-05 - val_acc: 1.0000\n",
            "Epoch 21/50\n",
            "1183/1183 [==============================] - 2s 2ms/step - loss: 2.6383e-05 - acc: 1.0000 - val_loss: 5.0037e-05 - val_acc: 1.0000\n",
            "Epoch 22/50\n",
            "1183/1183 [==============================] - 2s 2ms/step - loss: 1.6227e-05 - acc: 1.0000 - val_loss: 5.9489e-05 - val_acc: 1.0000\n",
            "Epoch 23/50\n",
            "1183/1183 [==============================] - 2s 1ms/step - loss: 9.8168e-06 - acc: 1.0000 - val_loss: 2.1986e-05 - val_acc: 1.0000\n",
            "Epoch 24/50\n",
            "1183/1183 [==============================] - 2s 2ms/step - loss: 7.0274e-06 - acc: 1.0000 - val_loss: 1.7762e-05 - val_acc: 1.0000\n",
            "Epoch 25/50\n",
            "1183/1183 [==============================] - 2s 1ms/step - loss: 3.5937e-06 - acc: 1.0000 - val_loss: 2.8055e-05 - val_acc: 1.0000\n",
            "Epoch 26/50\n",
            "1183/1183 [==============================] - 2s 1ms/step - loss: 2.2086e-06 - acc: 1.0000 - val_loss: 7.0564e-06 - val_acc: 1.0000\n",
            "Epoch 27/50\n",
            "1183/1183 [==============================] - 2s 1ms/step - loss: 8.8493e-07 - acc: 1.0000 - val_loss: 3.9884e-06 - val_acc: 1.0000\n",
            "Epoch 28/50\n",
            "1183/1183 [==============================] - 2s 1ms/step - loss: 5.5411e-07 - acc: 1.0000 - val_loss: 4.3167e-06 - val_acc: 1.0000\n",
            "Epoch 29/50\n",
            "1183/1183 [==============================] - 2s 2ms/step - loss: 2.6231e-07 - acc: 1.0000 - val_loss: 2.9718e-06 - val_acc: 1.0000\n",
            "Epoch 30/50\n",
            "1183/1183 [==============================] - 2s 2ms/step - loss: 1.5868e-07 - acc: 1.0000 - val_loss: 2.8411e-06 - val_acc: 1.0000\n",
            "Epoch 31/50\n",
            "1183/1183 [==============================] - 2s 2ms/step - loss: 8.7206e-08 - acc: 1.0000 - val_loss: 1.0851e-06 - val_acc: 1.0000\n",
            "Epoch 32/50\n",
            "1183/1183 [==============================] - 2s 1ms/step - loss: 4.0930e-08 - acc: 1.0000 - val_loss: 5.0345e-07 - val_acc: 1.0000\n",
            "Epoch 33/50\n",
            "1183/1183 [==============================] - 2s 2ms/step - loss: 2.3416e-08 - acc: 1.0000 - val_loss: 7.0504e-07 - val_acc: 1.0000\n",
            "Epoch 34/50\n",
            "1183/1183 [==============================] - 3s 2ms/step - loss: 1.1406e-08 - acc: 1.0000 - val_loss: 4.2969e-07 - val_acc: 1.0000\n",
            "Epoch 35/50\n",
            "1183/1183 [==============================] - 3s 2ms/step - loss: 6.2473e-09 - acc: 1.0000 - val_loss: 0.0161 - val_acc: 0.9945\n",
            "Epoch 36/50\n",
            "1183/1183 [==============================] - 2s 2ms/step - loss: 0.0323 - acc: 0.9944 - val_loss: 5.1449e-06 - val_acc: 1.0000\n",
            "Epoch 37/50\n",
            "1183/1183 [==============================] - 2s 1ms/step - loss: 7.0056e-06 - acc: 1.0000 - val_loss: 2.9413e-06 - val_acc: 1.0000\n",
            "Epoch 38/50\n",
            "1183/1183 [==============================] - 2s 2ms/step - loss: 2.2002e-06 - acc: 1.0000 - val_loss: 9.9233e-06 - val_acc: 1.0000\n",
            "Epoch 39/50\n",
            "1183/1183 [==============================] - 2s 2ms/step - loss: 2.9813e-06 - acc: 1.0000 - val_loss: 1.5123e-06 - val_acc: 1.0000\n",
            "Epoch 40/50\n",
            "1183/1183 [==============================] - 2s 2ms/step - loss: 8.8398e-07 - acc: 1.0000 - val_loss: 1.7286e-06 - val_acc: 1.0000\n",
            "Epoch 41/50\n",
            "1183/1183 [==============================] - 2s 1ms/step - loss: 7.5149e-07 - acc: 1.0000 - val_loss: 1.1427e-06 - val_acc: 1.0000\n",
            "Epoch 42/50\n",
            "1183/1183 [==============================] - 2s 2ms/step - loss: 5.7775e-07 - acc: 1.0000 - val_loss: 1.0535e-06 - val_acc: 1.0000\n",
            "Epoch 43/50\n",
            "1183/1183 [==============================] - 2s 1ms/step - loss: 3.4162e-07 - acc: 1.0000 - val_loss: 3.2935e-07 - val_acc: 1.0000\n",
            "Epoch 44/50\n",
            "1183/1183 [==============================] - 2s 1ms/step - loss: 3.6484e-07 - acc: 1.0000 - val_loss: 3.4460e-07 - val_acc: 1.0000\n",
            "Epoch 45/50\n",
            "1183/1183 [==============================] - 2s 1ms/step - loss: 1.2279e-07 - acc: 1.0000 - val_loss: 3.2022e-07 - val_acc: 1.0000\n",
            "Epoch 46/50\n",
            "1183/1183 [==============================] - 2s 2ms/step - loss: 1.0059e-07 - acc: 1.0000 - val_loss: 1.3492e-07 - val_acc: 1.0000\n",
            "Epoch 47/50\n",
            "1183/1183 [==============================] - 2s 2ms/step - loss: 5.3429e-08 - acc: 1.0000 - val_loss: 8.9795e-08 - val_acc: 1.0000\n",
            "Epoch 48/50\n",
            "1183/1183 [==============================] - 2s 2ms/step - loss: 2.9709e-08 - acc: 1.0000 - val_loss: 9.0046e-08 - val_acc: 1.0000\n",
            "Epoch 49/50\n",
            "1183/1183 [==============================] - 2s 2ms/step - loss: 2.0214e-08 - acc: 1.0000 - val_loss: 5.4189e-08 - val_acc: 1.0000\n",
            "Epoch 50/50\n",
            "1183/1183 [==============================] - 2s 1ms/step - loss: 1.3220e-08 - acc: 1.0000 - val_loss: 5.8772e-08 - val_acc: 1.0000\n"
          ],
          "name": "stdout"
        }
      ]
    },
    {
      "cell_type": "code",
      "metadata": {
        "colab": {
          "base_uri": "https://localhost:8080/"
        },
        "id": "ze5-nNRKkWKS",
        "outputId": "a75b28d2-e2ab-4050-bdee-5eb2237812d0"
      },
      "source": [
        "converter = tf.lite.TFLiteConverter.from_keras_model(model)\n",
        "tflite_model = converter.convert()\n"
      ],
      "execution_count": null,
      "outputs": [
        {
          "output_type": "stream",
          "text": [
            "INFO:tensorflow:Assets written to: /tmp/tmpv7yu_96a/assets\n"
          ],
          "name": "stdout"
        }
      ]
    },
    {
      "cell_type": "code",
      "metadata": {
        "id": "zEF1J4VlkZIY"
      },
      "source": [
        "with open('model.tflite', 'wb') as f:\n",
        "  f.write(tflite_model)"
      ],
      "execution_count": null,
      "outputs": []
    },
    {
      "cell_type": "code",
      "metadata": {
        "colab": {
          "resources": {
            "http://localhost:8080/nbextensions/google.colab/files.js": {
              "data": "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",
              "ok": true,
              "headers": [
                [
                  "content-type",
                  "application/javascript"
                ]
              ],
              "status": 200,
              "status_text": ""
            }
          },
          "base_uri": "https://localhost:8080/",
          "height": 38
        },
        "id": "KHdLCoHgnPdW",
        "outputId": "6ff3bf49-3ed3-403b-d7aa-b94114913230"
      },
      "source": [
        "from google.colab import files\n",
        "pbfile = files.upload()"
      ],
      "execution_count": null,
      "outputs": [
        {
          "output_type": "display_data",
          "data": {
            "text/html": [
              "\n",
              "     <input type=\"file\" id=\"files-bbf26263-b310-45e7-8527-aad64c44a162\" name=\"files[]\" multiple disabled\n",
              "        style=\"border:none\" />\n",
              "     <output id=\"result-bbf26263-b310-45e7-8527-aad64c44a162\">\n",
              "      Upload widget is only available when the cell has been executed in the\n",
              "      current browser session. Please rerun this cell to enable.\n",
              "      </output>\n",
              "      <script src=\"/nbextensions/google.colab/files.js\"></script> "
            ],
            "text/plain": [
              "<IPython.core.display.HTML object>"
            ]
          },
          "metadata": {
            "tags": []
          }
        }
      ]
    },
    {
      "cell_type": "code",
      "metadata": {
        "id": "frv1WGuWnUD3"
      },
      "source": [
        ""
      ],
      "execution_count": null,
      "outputs": []
    },
    {
      "cell_type": "code",
      "metadata": {
        "id": "sf46Hlntl9li"
      },
      "source": [
        "tflite_file = 'model.tflite'\n",
        "interpreter = tf.lite.Interpreter(model_content=tflite_model)\n",
        "interpreter.allocate_tensors()"
      ],
      "execution_count": null,
      "outputs": []
    },
    {
      "cell_type": "code",
      "metadata": {
        "colab": {
          "base_uri": "https://localhost:8080/",
          "height": 17
        },
        "id": "H2ThVoBZna7R",
        "outputId": "33ceb7d2-41cf-4c00-cf28-51e973eabb09"
      },
      "source": [
        "files.download(tflite_file)"
      ],
      "execution_count": null,
      "outputs": [
        {
          "output_type": "display_data",
          "data": {
            "application/javascript": [
              "\n",
              "    async function download(id, filename, size) {\n",
              "      if (!google.colab.kernel.accessAllowed) {\n",
              "        return;\n",
              "      }\n",
              "      const div = document.createElement('div');\n",
              "      const label = document.createElement('label');\n",
              "      label.textContent = `Downloading \"${filename}\": `;\n",
              "      div.appendChild(label);\n",
              "      const progress = document.createElement('progress');\n",
              "      progress.max = size;\n",
              "      div.appendChild(progress);\n",
              "      document.body.appendChild(div);\n",
              "\n",
              "      const buffers = [];\n",
              "      let downloaded = 0;\n",
              "\n",
              "      const channel = await google.colab.kernel.comms.open(id);\n",
              "      // Send a message to notify the kernel that we're ready.\n",
              "      channel.send({})\n",
              "\n",
              "      for await (const message of channel.messages) {\n",
              "        // Send a message to notify the kernel that we're ready.\n",
              "        channel.send({})\n",
              "        if (message.buffers) {\n",
              "          for (const buffer of message.buffers) {\n",
              "            buffers.push(buffer);\n",
              "            downloaded += buffer.byteLength;\n",
              "            progress.value = downloaded;\n",
              "          }\n",
              "        }\n",
              "      }\n",
              "      const blob = new Blob(buffers, {type: 'application/binary'});\n",
              "      const a = document.createElement('a');\n",
              "      a.href = window.URL.createObjectURL(blob);\n",
              "      a.download = filename;\n",
              "      div.appendChild(a);\n",
              "      a.click();\n",
              "      div.remove();\n",
              "    }\n",
              "  "
            ],
            "text/plain": [
              "<IPython.core.display.Javascript object>"
            ]
          },
          "metadata": {
            "tags": []
          }
        },
        {
          "output_type": "display_data",
          "data": {
            "application/javascript": [
              "download(\"download_751a9757-f6b8-431d-90c4-aad4cd6c275e\", \"model.tflite\", 6328)"
            ],
            "text/plain": [
              "<IPython.core.display.Javascript object>"
            ]
          },
          "metadata": {
            "tags": []
          }
        }
      ]
    }
  ]
}